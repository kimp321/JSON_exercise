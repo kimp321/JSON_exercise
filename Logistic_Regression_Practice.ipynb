{
 "cells": [
  {
   "cell_type": "code",
   "execution_count": 5,
   "metadata": {
    "collapsed": true
   },
   "outputs": [],
   "source": [
    "import pandas as pd\n",
    "import numpy as np\n",
    "import matplotlib.pyplot as plt\n",
    "import seaborn as sns\n",
    "import sklearn.model_selection"
   ]
  },
  {
   "cell_type": "code",
   "execution_count": 6,
   "metadata": {
    "collapsed": false
   },
   "outputs": [
    {
     "data": {
      "text/html": [
       "<div>\n",
       "<table border=\"1\" class=\"dataframe\">\n",
       "  <thead>\n",
       "    <tr style=\"text-align: right;\">\n",
       "      <th></th>\n",
       "      <th>gender</th>\n",
       "      <th>NationalITy</th>\n",
       "      <th>PlaceofBirth</th>\n",
       "      <th>StageID</th>\n",
       "      <th>GradeID</th>\n",
       "      <th>SectionID</th>\n",
       "      <th>Topic</th>\n",
       "      <th>Semester</th>\n",
       "      <th>Relation</th>\n",
       "      <th>raisedhands</th>\n",
       "      <th>VisITedResources</th>\n",
       "      <th>AnnouncementsView</th>\n",
       "      <th>Discussion</th>\n",
       "      <th>ParentAnsweringSurvey</th>\n",
       "      <th>ParentschoolSatisfaction</th>\n",
       "      <th>StudentAbsenceDays</th>\n",
       "      <th>Class</th>\n",
       "    </tr>\n",
       "  </thead>\n",
       "  <tbody>\n",
       "    <tr>\n",
       "      <th>0</th>\n",
       "      <td>M</td>\n",
       "      <td>KW</td>\n",
       "      <td>KuwaIT</td>\n",
       "      <td>lowerlevel</td>\n",
       "      <td>G-04</td>\n",
       "      <td>A</td>\n",
       "      <td>IT</td>\n",
       "      <td>F</td>\n",
       "      <td>Father</td>\n",
       "      <td>15</td>\n",
       "      <td>16</td>\n",
       "      <td>2</td>\n",
       "      <td>20</td>\n",
       "      <td>Yes</td>\n",
       "      <td>Good</td>\n",
       "      <td>Under-7</td>\n",
       "      <td>M</td>\n",
       "    </tr>\n",
       "    <tr>\n",
       "      <th>1</th>\n",
       "      <td>M</td>\n",
       "      <td>KW</td>\n",
       "      <td>KuwaIT</td>\n",
       "      <td>lowerlevel</td>\n",
       "      <td>G-04</td>\n",
       "      <td>A</td>\n",
       "      <td>IT</td>\n",
       "      <td>F</td>\n",
       "      <td>Father</td>\n",
       "      <td>20</td>\n",
       "      <td>20</td>\n",
       "      <td>3</td>\n",
       "      <td>25</td>\n",
       "      <td>Yes</td>\n",
       "      <td>Good</td>\n",
       "      <td>Under-7</td>\n",
       "      <td>M</td>\n",
       "    </tr>\n",
       "    <tr>\n",
       "      <th>2</th>\n",
       "      <td>M</td>\n",
       "      <td>KW</td>\n",
       "      <td>KuwaIT</td>\n",
       "      <td>lowerlevel</td>\n",
       "      <td>G-04</td>\n",
       "      <td>A</td>\n",
       "      <td>IT</td>\n",
       "      <td>F</td>\n",
       "      <td>Father</td>\n",
       "      <td>10</td>\n",
       "      <td>7</td>\n",
       "      <td>0</td>\n",
       "      <td>30</td>\n",
       "      <td>No</td>\n",
       "      <td>Bad</td>\n",
       "      <td>Above-7</td>\n",
       "      <td>L</td>\n",
       "    </tr>\n",
       "    <tr>\n",
       "      <th>3</th>\n",
       "      <td>M</td>\n",
       "      <td>KW</td>\n",
       "      <td>KuwaIT</td>\n",
       "      <td>lowerlevel</td>\n",
       "      <td>G-04</td>\n",
       "      <td>A</td>\n",
       "      <td>IT</td>\n",
       "      <td>F</td>\n",
       "      <td>Father</td>\n",
       "      <td>30</td>\n",
       "      <td>25</td>\n",
       "      <td>5</td>\n",
       "      <td>35</td>\n",
       "      <td>No</td>\n",
       "      <td>Bad</td>\n",
       "      <td>Above-7</td>\n",
       "      <td>L</td>\n",
       "    </tr>\n",
       "    <tr>\n",
       "      <th>4</th>\n",
       "      <td>M</td>\n",
       "      <td>KW</td>\n",
       "      <td>KuwaIT</td>\n",
       "      <td>lowerlevel</td>\n",
       "      <td>G-04</td>\n",
       "      <td>A</td>\n",
       "      <td>IT</td>\n",
       "      <td>F</td>\n",
       "      <td>Father</td>\n",
       "      <td>40</td>\n",
       "      <td>50</td>\n",
       "      <td>12</td>\n",
       "      <td>50</td>\n",
       "      <td>No</td>\n",
       "      <td>Bad</td>\n",
       "      <td>Above-7</td>\n",
       "      <td>M</td>\n",
       "    </tr>\n",
       "  </tbody>\n",
       "</table>\n",
       "</div>"
      ],
      "text/plain": [
       "  gender NationalITy PlaceofBirth     StageID GradeID SectionID Topic  \\\n",
       "0      M          KW       KuwaIT  lowerlevel    G-04         A    IT   \n",
       "1      M          KW       KuwaIT  lowerlevel    G-04         A    IT   \n",
       "2      M          KW       KuwaIT  lowerlevel    G-04         A    IT   \n",
       "3      M          KW       KuwaIT  lowerlevel    G-04         A    IT   \n",
       "4      M          KW       KuwaIT  lowerlevel    G-04         A    IT   \n",
       "\n",
       "  Semester Relation  raisedhands  VisITedResources  AnnouncementsView  \\\n",
       "0        F   Father           15                16                  2   \n",
       "1        F   Father           20                20                  3   \n",
       "2        F   Father           10                 7                  0   \n",
       "3        F   Father           30                25                  5   \n",
       "4        F   Father           40                50                 12   \n",
       "\n",
       "   Discussion ParentAnsweringSurvey ParentschoolSatisfaction  \\\n",
       "0          20                   Yes                     Good   \n",
       "1          25                   Yes                     Good   \n",
       "2          30                    No                      Bad   \n",
       "3          35                    No                      Bad   \n",
       "4          50                    No                      Bad   \n",
       "\n",
       "  StudentAbsenceDays Class  \n",
       "0            Under-7     M  \n",
       "1            Under-7     M  \n",
       "2            Above-7     L  \n",
       "3            Above-7     L  \n",
       "4            Above-7     M  "
      ]
     },
     "execution_count": 6,
     "metadata": {},
     "output_type": "execute_result"
    }
   ],
   "source": [
    "df = pd.read_csv(\"xAPI-Edu-Data.csv\")\n",
    "df.head()"
   ]
  },
  {
   "cell_type": "markdown",
   "metadata": {},
   "source": [
    "## Basic Logistic Regression\n",
    "1. Split the data into a training and test (hold-out) set\n",
    "2. Train on the training set, and test for accuracy on the testing set"
   ]
  },
  {
   "cell_type": "code",
   "execution_count": 17,
   "metadata": {
    "collapsed": false
   },
   "outputs": [
    {
     "name": "stderr",
     "output_type": "stream",
     "text": [
      "/Users/kpham/anaconda/lib/python3.6/site-packages/pandas/core/indexing.py:141: SettingWithCopyWarning: \n",
      "A value is trying to be set on a copy of a slice from a DataFrame\n",
      "\n",
      "See the caveats in the documentation: http://pandas.pydata.org/pandas-docs/stable/indexing.html#indexing-view-versus-copy\n",
      "  self._setitem_with_indexer(indexer, value)\n"
     ]
    },
    {
     "data": {
      "text/plain": [
       "(480, 6)"
      ]
     },
     "execution_count": 17,
     "metadata": {},
     "output_type": "execute_result"
    }
   ],
   "source": [
    "df['TotalQ'] = df['Class']\n",
    "df['TotalQ'].loc[df.TotalQ == 'Low-Level'] = 0.0\n",
    "df['TotalQ'].loc[df.TotalQ == 'Middle-Level'] = 1.0\n",
    "df['TotalQ'].loc[df.TotalQ == 'High-Level'] = 2.0\n",
    "\n",
    "continuous_subset = df.ix[:,9:13]\n",
    "continuous_subset['gender'] = np.where(df['gender']=='M',1,0)\n",
    "continuous_subset['Parent'] = np.where(df['Relation']=='Father',1,0)\n",
    "\n",
    "X = np.array(continuous_subset).astype('float64')\n",
    "y = np.array(df['TotalQ'])\n",
    "X.shape"
   ]
  },
  {
   "cell_type": "code",
   "execution_count": 20,
   "metadata": {
    "collapsed": false
   },
   "outputs": [
    {
     "name": "stdout",
     "output_type": "stream",
     "text": [
      "0.683333333333\n"
     ]
    }
   ],
   "source": [
    "from sklearn.model_selection import train_test_split\n",
    "from sklearn.linear_model import LogisticRegression\n",
    "from sklearn.metrics import accuracy_score\n",
    "\n",
    "# Split the data into a training and test set.\n",
    "X_train, X_test, y_train, y_test = train_test_split(\n",
    "         X, y)\n",
    "\n",
    "lr = LogisticRegression()\n",
    "# Fit the model on the trainng data.\n",
    "lr.fit(X_train, y_train)\n",
    "# Print the accuracy from the testing data.\n",
    "print(accuracy_score(lr.predict(X_train), y_train))"
   ]
  },
  {
   "cell_type": "markdown",
   "metadata": {},
   "source": [
    "## Tuning the Model"
   ]
  },
  {
   "cell_type": "markdown",
   "metadata": {},
   "source": [
    "Notes from Logistic Regression Project:\n",
    "\n",
    "The model has some hyperparameters we can tune for hopefully better performance. For tuning the parameters of your model, you will use a mix of *cross-validation* and *grid search*. In Logistic Regression, the most important parameter to tune is the *regularization parameter* `C`. Note that the regularization parameter is not always part of the logistic regression model. \n",
    "\n",
    "The regularization parameter is used to control for unlikely high regression coefficients, and in other cases can be used when data is sparse, as a method of feature selection.\n",
    "\n",
    "You will now implement some code to perform model tuning and selecting the regularization parameter $C$.\n",
    "\n",
    "We use the following `cv_score` function to perform K-fold cross-validation and apply a scoring function to each test fold. In this incarnation we use accuracy score as the default scoring function."
   ]
  },
  {
   "cell_type": "code",
   "execution_count": 38,
   "metadata": {
    "collapsed": true
   },
   "outputs": [],
   "source": [
    "from sklearn.model_selection import KFold\n",
    "from sklearn.metrics import accuracy_score\n",
    "\n",
    "def cv_score(lr, x, y, score_func=accuracy_score):\n",
    "    result = 0\n",
    "    nfold = 5\n",
    "    for train, test in KFold(nfold).split(x): # split data into train/test groups, 5 times\n",
    "        lr.fit(x[train], y[train]) # fit\n",
    "        result += score_func(lr.predict(x[test]), y[test]) # evaluate score function on held-out data\n",
    "    return result / nfold # average"
   ]
  },
  {
   "cell_type": "code",
   "execution_count": 39,
   "metadata": {
    "collapsed": false
   },
   "outputs": [
    {
     "name": "stdout",
     "output_type": "stream",
     "text": [
      "0.652777777778\n"
     ]
    }
   ],
   "source": [
    "lr = LogisticRegression()\n",
    "score = cv_score(lr, X_train, y_train)\n",
    "print(score) #accuracy score"
   ]
  },
  {
   "cell_type": "code",
   "execution_count": 50,
   "metadata": {
    "collapsed": false
   },
   "outputs": [
    {
     "name": "stdout",
     "output_type": "stream",
     "text": [
      "0.001 0.341666666667\n",
      "0.1 0.625\n",
      "1 0.675\n",
      "10 0.675\n",
      "100 0.675\n",
      "best score, C: 0.675 1\n"
     ]
    }
   ],
   "source": [
    "#the grid of parameters to search over\n",
    "Cs = [0.001, 0.1, 1, 10, 100]\n",
    "\n",
    "# your turn\n",
    "best_score=0\n",
    "\n",
    "for C in Cs:\n",
    "    clf=LogisticRegression(C=C)\n",
    "    score=cv_score(clf, X_test, y_test)\n",
    "    print(C, score)\n",
    "\n",
    "    if score > best_score:\n",
    "        best_score = score\n",
    "        best_C =C\n",
    "print('best score, C:', best_score, best_C)"
   ]
  },
  {
   "cell_type": "code",
   "execution_count": 53,
   "metadata": {
    "collapsed": true
   },
   "outputs": [],
   "source": [
    "# what defines Cs?"
   ]
  },
  {
   "cell_type": "code",
   "execution_count": 51,
   "metadata": {
    "collapsed": false,
    "scrolled": true
   },
   "outputs": [
    {
     "name": "stdout",
     "output_type": "stream",
     "text": [
      "0.716666666667\n"
     ]
    }
   ],
   "source": [
    "lr = LogisticRegression()\n",
    "score = cv_score(lr, X_train, y_train)\n",
    "print(accuracy_score(lr.predict(X_test), y_test)) #accuracy score of fitted model on test data"
   ]
  },
  {
   "cell_type": "markdown",
   "metadata": {},
   "source": [
    "## Useing scikit-learn's GridSearchCV tool to perform cross validation and grid search."
   ]
  },
  {
   "cell_type": "code",
   "execution_count": 52,
   "metadata": {
    "collapsed": false
   },
   "outputs": [
    {
     "data": {
      "text/plain": [
       "GridSearchCV(cv=5, error_score='raise',\n",
       "       estimator=LogisticRegression(C=1.0, class_weight=None, dual=False, fit_intercept=True,\n",
       "          intercept_scaling=1, max_iter=100, multi_class='ovr', n_jobs=1,\n",
       "          penalty='l2', random_state=None, solver='liblinear', tol=0.0001,\n",
       "          verbose=0, warm_start=False),\n",
       "       fit_params={}, iid=True, n_jobs=1,\n",
       "       param_grid={'C': [0.001, 0.1, 1, 10, 100]}, pre_dispatch='2*n_jobs',\n",
       "       refit=True, scoring='accuracy', verbose=0)"
      ]
     },
     "execution_count": 52,
     "metadata": {},
     "output_type": "execute_result"
    }
   ],
   "source": [
    "from sklearn.grid_search import GridSearchCV\n",
    "param_grid = {'C' : Cs }\n",
    "x = GridSearchCV(LogisticRegression(), param_grid, scoring = 'accuracy', cv = 5)\n",
    "x.fit(X_train, y_train)"
   ]
  },
  {
   "cell_type": "code",
   "execution_count": 54,
   "metadata": {
    "collapsed": false
   },
   "outputs": [
    {
     "name": "stdout",
     "output_type": "stream",
     "text": [
      "1\n"
     ]
    }
   ],
   "source": [
    "print(x.best_params_['C'])"
   ]
  },
  {
   "cell_type": "code",
   "execution_count": 55,
   "metadata": {
    "collapsed": false
   },
   "outputs": [
    {
     "name": "stdout",
     "output_type": "stream",
     "text": [
      "0.716666666667\n"
     ]
    }
   ],
   "source": [
    "print(accuracy_score(x.predict(X_test), y_test))"
   ]
  },
  {
   "cell_type": "markdown",
   "metadata": {},
   "source": [
    "## Math behind Logistic Regression"
   ]
  },
  {
   "cell_type": "code",
   "execution_count": 56,
   "metadata": {
    "collapsed": true
   },
   "outputs": [],
   "source": [
    "def cv_optimize(clf, parameters, Xtrain, ytrain, n_folds=5):\n",
    "    gs = sklearn.model_selection.GridSearchCV(clf, param_grid=parameters, cv=n_folds)\n",
    "    gs.fit(Xtrain, ytrain)\n",
    "    print(\"BEST PARAMS\", gs.best_params_)\n",
    "    best = gs.best_estimator_\n",
    "    return best"
   ]
  },
  {
   "cell_type": "code",
   "execution_count": 57,
   "metadata": {
    "collapsed": true
   },
   "outputs": [],
   "source": [
    "from sklearn.model_selection import train_test_split\n",
    "\n",
    "def do_classify(clf, parameters, indf, featurenames, targetname, target1val, standardize=False, train_size=0.8):\n",
    "    subdf=indf[featurenames]\n",
    "    if standardize:\n",
    "        subdfstd=(subdf - subdf.mean())/subdf.std()\n",
    "    else:\n",
    "        subdfstd=subdf\n",
    "    X=subdfstd.values\n",
    "    y=(indf[targetname].values==target1val)*1\n",
    "    Xtrain, Xtest, ytrain, ytest = train_test_split(X, y, train_size=train_size)\n",
    "    clf = cv_optimize(clf, parameters, Xtrain, ytrain)\n",
    "    clf=clf.fit(Xtrain, ytrain)\n",
    "    training_accuracy = clf.score(Xtrain, ytrain)\n",
    "    test_accuracy = clf.score(Xtest, ytest)\n",
    "    print(\"Accuracy on training data: {:0.2f}\".format(training_accuracy))\n",
    "    print(\"Accuracy on test data:     {:0.2f}\".format(test_accuracy))\n",
    "    return clf, Xtrain, ytrain, Xtest, ytest"
   ]
  },
  {
   "cell_type": "code",
   "execution_count": 63,
   "metadata": {
    "collapsed": true
   },
   "outputs": [
    {
     "ename": "KeyError",
     "evalue": "'[(15.0, 16.0, 2.0, 20.0, 1.0, 1.0) (20.0, 20.0, 3.0, 25.0, 1.0, 1.0)\\n (10.0, 7.0, 0.0, 30.0, 1.0, 1.0) (30.0, 25.0, 5.0, 35.0, 1.0, 1.0)\\n (40.0, 50.0, 12.0, 50.0, 1.0, 1.0) (42.0, 30.0, 13.0, 70.0, 0.0, 1.0)\\n (35.0, 12.0, 0.0, 17.0, 1.0, 1.0) (50.0, 10.0, 15.0, 22.0, 1.0, 1.0)\\n (12.0, 21.0, 16.0, 50.0, 0.0, 1.0) (70.0, 80.0, 25.0, 70.0, 0.0, 1.0)\\n (50.0, 88.0, 30.0, 80.0, 1.0, 1.0) (19.0, 6.0, 19.0, 12.0, 1.0, 1.0)\\n (5.0, 1.0, 0.0, 11.0, 1.0, 1.0) (20.0, 14.0, 12.0, 19.0, 1.0, 1.0)\\n (62.0, 70.0, 44.0, 60.0, 0.0, 0.0) (30.0, 40.0, 22.0, 66.0, 0.0, 1.0)\\n (36.0, 30.0, 20.0, 80.0, 1.0, 1.0) (55.0, 13.0, 35.0, 90.0, 1.0, 1.0)\\n (69.0, 15.0, 36.0, 96.0, 0.0, 0.0) (70.0, 50.0, 40.0, 99.0, 1.0, 0.0)\\n (60.0, 60.0, 33.0, 90.0, 0.0, 1.0) (10.0, 12.0, 4.0, 80.0, 0.0, 1.0)\\n (15.0, 21.0, 2.0, 90.0, 1.0, 1.0) (2.0, 0.0, 2.0, 50.0, 1.0, 1.0)\\n (0.0, 2.0, 3.0, 70.0, 1.0, 1.0) (8.0, 7.0, 30.0, 40.0, 1.0, 1.0)\\n (19.0, 19.0, 25.0, 40.0, 1.0, 1.0) (25.0, 15.0, 12.0, 33.0, 1.0, 1.0)\\n (75.0, 85.0, 52.0, 43.0, 1.0, 1.0) (30.0, 90.0, 33.0, 35.0, 0.0, 1.0)\\n (35.0, 80.0, 50.0, 70.0, 0.0, 1.0) (4.0, 5.0, 40.0, 16.0, 1.0, 1.0)\\n (2.0, 19.0, 10.0, 50.0, 0.0, 1.0) (8.0, 22.0, 9.0, 40.0, 1.0, 1.0)\\n (12.0, 11.0, 8.0, 40.0, 1.0, 1.0) (10.0, 12.0, 17.0, 30.0, 1.0, 1.0)\\n (8.0, 6.0, 4.0, 22.0, 1.0, 0.0) (45.0, 54.0, 26.0, 90.0, 0.0, 1.0)\\n (0.0, 0.0, 0.0, 4.0, 1.0, 1.0) (50.0, 90.0, 37.0, 70.0, 0.0, 1.0)\\n (14.0, 13.0, 3.0, 70.0, 0.0, 1.0) (19.0, 20.0, 16.0, 50.0, 1.0, 1.0)\\n (10.0, 12.0, 7.0, 33.0, 1.0, 1.0) (30.0, 35.0, 28.0, 90.0, 0.0, 1.0)\\n (33.0, 33.0, 30.0, 90.0, 0.0, 1.0) (20.0, 12.0, 15.0, 70.0, 1.0, 1.0)\\n (7.0, 10.0, 1.0, 30.0, 1.0, 1.0) (70.0, 4.0, 39.0, 90.0, 0.0, 0.0)\\n (13.0, 80.0, 40.0, 88.0, 0.0, 0.0) (29.0, 39.0, 50.0, 77.0, 0.0, 1.0)\\n (20.0, 14.0, 12.0, 70.0, 0.0, 1.0) (39.0, 15.0, 16.0, 50.0, 1.0, 1.0)\\n (55.0, 90.0, 16.0, 40.0, 0.0, 1.0) (49.0, 70.0, 19.0, 75.0, 0.0, 0.0)\\n (12.0, 50.0, 8.0, 30.0, 1.0, 0.0) (16.0, 14.0, 6.0, 20.0, 1.0, 1.0)\\n (19.0, 5.0, 4.0, 1.0, 1.0, 1.0) (5.0, 2.0, 6.0, 5.0, 1.0, 1.0)\\n (28.0, 60.0, 19.0, 50.0, 1.0, 1.0) (27.0, 22.0, 22.0, 40.0, 0.0, 1.0)\\n (21.0, 10.0, 28.0, 20.0, 0.0, 0.0) (50.0, 70.0, 32.0, 40.0, 1.0, 1.0)\\n (80.0, 90.0, 70.0, 80.0, 1.0, 0.0) (17.0, 13.0, 16.0, 12.0, 1.0, 1.0)\\n (0.0, 5.0, 7.0, 2.0, 1.0, 1.0) (13.0, 5.0, 18.0, 19.0, 1.0, 1.0)\\n (25.0, 10.0, 19.0, 30.0, 0.0, 1.0) (65.0, 75.0, 23.0, 80.0, 0.0, 0.0)\\n (70.0, 69.0, 35.0, 30.0, 0.0, 0.0) (39.0, 40.0, 11.0, 33.0, 1.0, 1.0)\\n (22.0, 30.0, 10.0, 12.0, 1.0, 1.0) (29.0, 22.0, 9.0, 20.0, 1.0, 1.0)\\n (11.0, 2.0, 2.0, 8.0, 1.0, 1.0) (19.0, 30.0, 26.0, 19.0, 0.0, 1.0)\\n (12.0, 0.0, 6.0, 13.0, 1.0, 1.0) (50.0, 90.0, 29.0, 60.0, 1.0, 0.0)\\n (15.0, 70.0, 37.0, 44.0, 1.0, 0.0) (20.0, 80.0, 33.0, 33.0, 1.0, 1.0)\\n (13.0, 3.0, 11.0, 9.0, 1.0, 1.0) (80.0, 90.0, 49.0, 55.0, 0.0, 0.0)\\n (8.0, 15.0, 10.0, 40.0, 1.0, 1.0) (8.0, 25.0, 1.0, 70.0, 1.0, 1.0)\\n (7.0, 5.0, 2.0, 80.0, 1.0, 1.0) (7.0, 4.0, 10.0, 50.0, 1.0, 1.0)\\n (50.0, 70.0, 50.0, 10.0, 1.0, 1.0) (1.0, 0.0, 1.0, 12.0, 1.0, 1.0)\\n (70.0, 12.0, 40.0, 50.0, 1.0, 1.0) (19.0, 70.0, 3.0, 50.0, 1.0, 1.0)\\n (3.0, 12.0, 4.0, 33.0, 0.0, 1.0) (5.0, 20.0, 1.0, 50.0, 1.0, 1.0)\\n (4.0, 8.0, 10.0, 60.0, 1.0, 1.0) (80.0, 90.0, 55.0, 19.0, 1.0, 1.0)\\n (50.0, 70.0, 19.0, 15.0, 0.0, 1.0) (55.0, 89.0, 40.0, 40.0, 1.0, 1.0)\\n (80.0, 44.0, 35.0, 10.0, 0.0, 1.0) (100.0, 80.0, 2.0, 70.0, 0.0, 1.0)\\n (14.0, 60.0, 11.0, 75.0, 0.0, 1.0) (6.0, 2.0, 38.0, 12.0, 0.0, 1.0)\\n (10.0, 3.0, 0.0, 30.0, 0.0, 1.0) (50.0, 7.0, 9.0, 50.0, 1.0, 1.0)\\n (50.0, 90.0, 40.0, 90.0, 1.0, 1.0) (70.0, 92.0, 50.0, 7.0, 0.0, 0.0)\\n (2.0, 6.0, 2.0, 8.0, 0.0, 1.0) (1.0, 7.0, 6.0, 10.0, 1.0, 1.0)\\n (0.0, 12.0, 3.0, 3.0, 1.0, 1.0) (0.0, 0.0, 5.0, 80.0, 0.0, 1.0)\\n (12.0, 26.0, 7.0, 40.0, 0.0, 1.0) (70.0, 90.0, 41.0, 33.0, 1.0, 1.0)\\n (7.0, 12.0, 5.0, 3.0, 1.0, 1.0) (90.0, 70.0, 30.0, 14.0, 1.0, 1.0)\\n (70.0, 88.0, 55.0, 40.0, 0.0, 0.0) (77.0, 80.0, 51.0, 80.0, 1.0, 1.0)\\n (2.0, 5.0, 3.0, 50.0, 1.0, 1.0) (25.0, 27.0, 0.0, 69.0, 1.0, 1.0)\\n (11.0, 2.0, 0.0, 50.0, 1.0, 1.0) (0.0, 8.0, 11.0, 70.0, 1.0, 1.0)\\n (77.0, 80.0, 12.0, 19.0, 0.0, 0.0) (25.0, 29.0, 40.0, 17.0, 0.0, 0.0)\\n (24.0, 35.0, 23.0, 22.0, 0.0, 0.0) (60.0, 60.0, 3.0, 60.0, 1.0, 1.0)\\n (21.0, 12.0, 0.0, 50.0, 1.0, 0.0) (0.0, 4.0, 8.0, 30.0, 1.0, 0.0)\\n (66.0, 90.0, 55.0, 12.0, 0.0, 1.0) (70.0, 98.0, 7.0, 5.0, 0.0, 1.0)\\n (0.0, 6.0, 4.0, 15.0, 1.0, 1.0) (12.0, 30.0, 0.0, 17.0, 1.0, 1.0)\\n (2.0, 9.0, 7.0, 55.0, 0.0, 1.0) (55.0, 33.0, 6.0, 9.0, 1.0, 1.0)\\n (12.0, 10.0, 20.0, 16.0, 1.0, 1.0) (70.0, 90.0, 2.0, 2.0, 1.0, 1.0)\\n (7.0, 9.0, 5.0, 30.0, 0.0, 1.0) (80.0, 42.0, 20.0, 50.0, 1.0, 1.0)\\n (0.0, 3.0, 10.0, 3.0, 1.0, 1.0) (12.0, 60.0, 0.0, 70.0, 1.0, 1.0)\\n (80.0, 80.0, 15.0, 70.0, 1.0, 1.0) (70.0, 80.0, 95.0, 70.0, 0.0, 0.0)\\n (70.0, 80.0, 95.0, 70.0, 0.0, 0.0) (60.0, 80.0, 50.0, 40.0, 0.0, 0.0)\\n (100.0, 80.0, 95.0, 90.0, 0.0, 0.0) (100.0, 85.0, 85.0, 70.0, 1.0, 0.0)\\n (10.0, 60.0, 5.0, 20.0, 1.0, 1.0) (19.0, 65.0, 50.0, 10.0, 1.0, 1.0)\\n (10.0, 75.0, 55.0, 11.0, 1.0, 1.0) (80.0, 90.0, 55.0, 19.0, 1.0, 1.0)\\n (10.0, 10.0, 15.0, 19.0, 1.0, 1.0) (70.0, 75.0, 55.0, 11.0, 1.0, 1.0)\\n (100.0, 75.0, 50.0, 70.0, 0.0, 0.0) (10.0, 79.0, 30.0, 30.0, 0.0, 1.0)\\n (60.0, 55.0, 30.0, 40.0, 0.0, 1.0) (100.0, 75.0, 50.0, 70.0, 0.0, 0.0)\\n (80.0, 80.0, 51.0, 59.0, 1.0, 1.0) (23.0, 63.0, 71.0, 89.0, 1.0, 1.0)\\n (100.0, 91.0, 98.0, 40.0, 0.0, 1.0) (10.0, 51.0, 40.0, 40.0, 1.0, 1.0)\\n (70.0, 50.0, 33.0, 41.0, 1.0, 1.0) (70.0, 58.0, 73.0, 91.0, 1.0, 1.0)\\n (70.0, 50.0, 30.0, 49.0, 0.0, 1.0) (70.0, 50.0, 33.0, 40.0, 1.0, 1.0)\\n (22.0, 51.0, 48.0, 10.0, 1.0, 1.0) (62.0, 68.0, 48.0, 80.0, 0.0, 1.0)\\n (82.0, 89.0, 58.0, 50.0, 0.0, 0.0) (72.0, 80.0, 58.0, 66.0, 1.0, 0.0)\\n (70.0, 82.0, 3.0, 73.0, 0.0, 0.0) (60.0, 82.0, 93.0, 43.0, 0.0, 0.0)\\n (55.0, 72.0, 83.0, 14.0, 1.0, 0.0) (72.0, 65.0, 73.0, 66.0, 0.0, 0.0)\\n (51.0, 82.0, 53.0, 43.0, 1.0, 0.0) (80.0, 92.0, 83.0, 43.0, 1.0, 0.0)\\n (60.0, 52.0, 23.0, 33.0, 1.0, 0.0) (30.0, 12.0, 29.0, 23.0, 1.0, 0.0)\\n (40.0, 62.0, 83.0, 33.0, 1.0, 1.0) (60.0, 52.0, 23.0, 33.0, 1.0, 0.0)\\n (20.0, 22.0, 53.0, 13.0, 1.0, 0.0) (20.0, 52.0, 23.0, 33.0, 1.0, 0.0)\\n (50.0, 62.0, 73.0, 43.0, 0.0, 1.0) (10.0, 2.0, 13.0, 53.0, 1.0, 1.0)\\n (60.0, 52.0, 23.0, 33.0, 1.0, 0.0) (15.0, 52.0, 83.0, 11.0, 0.0, 0.0)\\n (80.0, 42.0, 33.0, 13.0, 0.0, 0.0) (40.0, 51.0, 20.0, 33.0, 1.0, 0.0)\\n (60.0, 70.0, 63.0, 93.0, 0.0, 1.0) (50.0, 62.0, 13.0, 33.0, 1.0, 1.0)\\n (85.0, 75.0, 62.0, 53.0, 1.0, 0.0) (25.0, 15.0, 32.0, 53.0, 0.0, 1.0)\\n (10.0, 35.0, 30.0, 13.0, 1.0, 0.0) (87.0, 65.0, 82.0, 33.0, 1.0, 0.0)\\n (85.0, 15.0, 22.0, 53.0, 1.0, 0.0) (80.0, 71.0, 52.0, 51.0, 0.0, 1.0)\\n (75.0, 71.0, 72.0, 53.0, 1.0, 0.0) (85.0, 66.0, 12.0, 23.0, 0.0, 1.0)\\n (23.0, 25.0, 32.0, 53.0, 1.0, 1.0) (15.0, 25.0, 37.0, 13.0, 1.0, 1.0)\\n (95.0, 91.0, 62.0, 53.0, 1.0, 0.0) (81.0, 75.0, 62.0, 53.0, 1.0, 0.0)\\n (53.0, 75.0, 72.0, 23.0, 1.0, 0.0) (15.0, 43.0, 42.0, 33.0, 1.0, 1.0)\\n (92.0, 65.0, 62.0, 53.0, 1.0, 0.0) (83.0, 75.0, 62.0, 53.0, 1.0, 0.0)\\n (27.0, 15.0, 42.0, 53.0, 1.0, 1.0) (45.0, 95.0, 12.0, 13.0, 1.0, 1.0)\\n (15.0, 90.0, 52.0, 83.0, 1.0, 0.0) (45.0, 58.0, 52.0, 43.0, 0.0, 0.0)\\n (25.0, 5.0, 12.0, 33.0, 1.0, 1.0) (22.0, 51.0, 42.0, 40.0, 0.0, 1.0)\\n (29.0, 10.0, 12.0, 24.0, 1.0, 1.0) (72.0, 51.0, 42.0, 24.0, 0.0, 0.0)\\n (67.0, 31.0, 42.0, 14.0, 1.0, 1.0) (17.0, 21.0, 42.0, 14.0, 1.0, 1.0)\\n (27.0, 41.0, 49.0, 14.0, 1.0, 0.0) (70.0, 81.0, 39.0, 84.0, 1.0, 1.0)\\n (27.0, 90.0, 82.0, 14.0, 1.0, 0.0) (17.0, 61.0, 42.0, 14.0, 1.0, 1.0)\\n (87.0, 81.0, 42.0, 19.0, 1.0, 0.0) (7.0, 61.0, 22.0, 14.0, 1.0, 1.0)\\n (17.0, 50.0, 2.0, 4.0, 1.0, 1.0) (5.0, 21.0, 42.0, 14.0, 1.0, 1.0)\\n (27.0, 41.0, 32.0, 61.0, 1.0, 0.0) (87.0, 88.0, 40.0, 10.0, 0.0, 1.0)\\n (96.0, 61.0, 42.0, 94.0, 1.0, 0.0) (57.0, 51.0, 46.0, 34.0, 1.0, 0.0)\\n (77.0, 69.0, 41.0, 13.0, 1.0, 1.0) (80.0, 51.0, 40.0, 24.0, 1.0, 1.0)\\n (62.0, 61.0, 82.0, 40.0, 1.0, 1.0) (72.0, 83.0, 12.0, 90.0, 1.0, 0.0)\\n (87.0, 81.0, 22.0, 70.0, 1.0, 0.0) (72.0, 90.0, 12.0, 30.0, 1.0, 0.0)\\n (2.0, 11.0, 62.0, 30.0, 1.0, 1.0) (5.0, 3.0, 2.0, 10.0, 1.0, 1.0)\\n (73.0, 84.0, 77.0, 81.0, 1.0, 0.0) (5.0, 17.0, 21.0, 10.0, 1.0, 1.0)\\n (51.0, 42.0, 12.0, 29.0, 1.0, 0.0) (9.0, 7.0, 21.0, 20.0, 1.0, 1.0)\\n (19.0, 72.0, 15.0, 50.0, 1.0, 1.0) (32.0, 80.0, 58.0, 46.0, 0.0, 0.0)\\n (32.0, 60.0, 58.0, 66.0, 1.0, 0.0) (12.0, 8.0, 18.0, 26.0, 1.0, 1.0)\\n (52.0, 10.0, 13.0, 6.0, 1.0, 1.0) (72.0, 80.0, 58.0, 66.0, 1.0, 1.0)\\n (72.0, 80.0, 58.0, 66.0, 0.0, 0.0) (92.0, 80.0, 88.0, 76.0, 1.0, 0.0)\\n (72.0, 80.0, 98.0, 96.0, 1.0, 0.0) (72.0, 80.0, 58.0, 86.0, 1.0, 1.0)\\n (22.0, 20.0, 18.0, 6.0, 1.0, 1.0) (12.0, 20.0, 38.0, 46.0, 1.0, 1.0)\\n (70.0, 92.0, 83.0, 85.0, 1.0, 0.0) (50.0, 40.0, 52.0, 66.0, 0.0, 1.0)\\n (80.0, 94.0, 62.0, 77.0, 0.0, 1.0) (87.0, 48.0, 82.0, 96.0, 0.0, 1.0)\\n (70.0, 40.0, 2.0, 16.0, 0.0, 1.0) (65.0, 86.0, 62.0, 40.0, 1.0, 1.0)\\n (15.0, 6.0, 32.0, 40.0, 1.0, 1.0) (19.0, 74.0, 32.0, 17.0, 1.0, 0.0)\\n (69.0, 76.0, 82.0, 94.0, 0.0, 1.0) (39.0, 26.0, 12.0, 44.0, 1.0, 1.0)\\n (59.0, 97.0, 42.0, 70.0, 1.0, 1.0) (10.0, 17.0, 12.0, 40.0, 1.0, 1.0)\\n (80.0, 87.0, 72.0, 60.0, 0.0, 0.0) (70.0, 99.0, 66.0, 65.0, 0.0, 1.0)\\n (80.0, 97.0, 86.0, 95.0, 0.0, 1.0) (69.0, 34.0, 12.0, 17.0, 1.0, 0.0)\\n (10.0, 17.0, 12.0, 14.0, 1.0, 1.0) (61.0, 97.0, 82.0, 64.0, 1.0, 1.0)\\n (21.0, 27.0, 52.0, 34.0, 0.0, 0.0) (49.0, 94.0, 42.0, 7.0, 1.0, 0.0)\\n (70.0, 64.0, 42.0, 32.0, 0.0, 0.0) (79.0, 84.0, 82.0, 37.0, 0.0, 0.0)\\n (19.0, 80.0, 12.0, 17.0, 1.0, 1.0) (11.0, 70.0, 32.0, 29.0, 1.0, 1.0)\\n (10.0, 8.0, 10.0, 10.0, 1.0, 1.0) (18.0, 28.0, 40.0, 20.0, 1.0, 1.0)\\n (90.0, 84.0, 52.0, 30.0, 0.0, 0.0) (92.0, 81.0, 32.0, 36.0, 0.0, 0.0)\\n (42.0, 21.0, 2.0, 16.0, 1.0, 1.0) (22.0, 20.0, 6.0, 26.0, 1.0, 1.0)\\n (95.0, 82.0, 82.0, 70.0, 0.0, 0.0) (90.0, 62.0, 80.0, 60.0, 0.0, 0.0)\\n (72.0, 21.0, 22.0, 26.0, 1.0, 0.0) (92.0, 31.0, 42.0, 27.0, 1.0, 0.0)\\n (82.0, 31.0, 52.0, 25.0, 1.0, 0.0) (72.0, 41.0, 46.0, 27.0, 1.0, 0.0)\\n (74.0, 71.0, 56.0, 37.0, 1.0, 0.0) (74.0, 60.0, 56.0, 37.0, 1.0, 0.0)\\n (95.0, 94.0, 72.0, 80.0, 0.0, 0.0) (97.0, 87.0, 82.0, 86.0, 0.0, 0.0)\\n (40.0, 38.0, 32.0, 36.0, 1.0, 1.0) (41.0, 39.0, 35.0, 39.0, 1.0, 1.0)\\n (51.0, 79.0, 85.0, 89.0, 0.0, 0.0) (81.0, 79.0, 91.0, 85.0, 0.0, 0.0)\\n (71.0, 70.0, 65.0, 69.0, 1.0, 0.0) (75.0, 71.0, 76.0, 80.0, 1.0, 0.0)\\n (49.0, 36.0, 32.0, 44.0, 0.0, 1.0) (42.0, 24.0, 12.0, 24.0, 0.0, 1.0)\\n (90.0, 86.0, 82.0, 74.0, 0.0, 0.0) (62.0, 64.0, 72.0, 84.0, 0.0, 0.0)\\n (90.0, 86.0, 82.0, 74.0, 1.0, 1.0) (62.0, 64.0, 72.0, 84.0, 1.0, 1.0)\\n (98.0, 87.0, 86.0, 84.0, 0.0, 0.0) (72.0, 74.0, 82.0, 89.0, 0.0, 0.0)\\n (18.0, 17.0, 26.0, 34.0, 1.0, 1.0) (32.0, 14.0, 32.0, 29.0, 1.0, 1.0)\\n (10.0, 12.0, 20.0, 13.0, 1.0, 1.0) (22.0, 34.0, 15.0, 9.0, 1.0, 1.0)\\n (11.0, 20.0, 21.0, 23.0, 0.0, 0.0) (12.0, 44.0, 25.0, 39.0, 0.0, 0.0)\\n (15.0, 50.0, 24.0, 43.0, 0.0, 1.0) (32.0, 44.0, 29.0, 89.0, 0.0, 1.0)\\n (65.0, 59.0, 74.0, 83.0, 1.0, 0.0) (72.0, 64.0, 59.0, 89.0, 1.0, 0.0)\\n (95.0, 57.0, 74.0, 89.0, 1.0, 0.0) (82.0, 84.0, 79.0, 79.0, 1.0, 0.0)\\n (25.0, 29.0, 34.0, 33.0, 1.0, 1.0) (42.0, 34.0, 29.0, 39.0, 1.0, 1.0)\\n (55.0, 79.0, 44.0, 43.0, 0.0, 0.0) (62.0, 64.0, 69.0, 49.0, 0.0, 0.0)\\n (78.0, 88.0, 74.0, 83.0, 0.0, 0.0) (72.0, 84.0, 89.0, 89.0, 0.0, 0.0)\\n (60.0, 92.0, 83.0, 23.0, 1.0, 0.0) (50.0, 90.0, 83.0, 13.0, 1.0, 0.0)\\n (60.0, 97.0, 13.0, 3.0, 0.0, 0.0) (50.0, 95.0, 23.0, 10.0, 0.0, 0.0)\\n (60.0, 87.0, 23.0, 11.0, 0.0, 0.0) (50.0, 80.0, 20.0, 15.0, 0.0, 0.0)\\n (10.0, 15.0, 10.0, 21.0, 1.0, 1.0) (30.0, 10.0, 20.0, 5.0, 1.0, 1.0)\\n (24.0, 35.0, 18.0, 31.0, 1.0, 1.0) (27.0, 20.0, 33.0, 35.0, 1.0, 1.0)\\n (10.0, 15.0, 10.0, 21.0, 1.0, 1.0) (30.0, 10.0, 20.0, 5.0, 1.0, 1.0)\\n (80.0, 77.0, 63.0, 83.0, 0.0, 0.0) (75.0, 85.0, 73.0, 80.0, 0.0, 0.0)\\n (40.0, 7.0, 50.0, 41.0, 1.0, 1.0) (35.0, 2.0, 29.0, 33.0, 1.0, 1.0)\\n (10.0, 90.0, 30.0, 21.0, 0.0, 0.0) (25.0, 80.0, 29.0, 23.0, 0.0, 0.0)\\n (10.0, 8.0, 9.0, 3.0, 1.0, 0.0) (15.0, 7.0, 12.0, 7.0, 1.0, 0.0)\\n (70.0, 90.0, 20.0, 21.0, 0.0, 0.0) (75.0, 80.0, 15.0, 20.0, 0.0, 0.0)\\n (78.0, 98.0, 10.0, 11.0, 0.0, 1.0) (79.0, 89.0, 11.0, 14.0, 0.0, 1.0)\\n (16.0, 90.0, 15.0, 11.0, 0.0, 1.0) (17.0, 80.0, 13.0, 10.0, 0.0, 1.0)\\n (40.0, 87.0, 50.0, 41.0, 1.0, 0.0) (35.0, 92.0, 29.0, 33.0, 1.0, 0.0)\\n (14.0, 97.0, 15.0, 14.0, 0.0, 0.0) (13.0, 82.0, 20.0, 30.0, 0.0, 0.0)\\n (24.0, 97.0, 15.0, 14.0, 0.0, 0.0) (23.0, 82.0, 20.0, 30.0, 0.0, 0.0)\\n (20.0, 3.0, 9.0, 3.0, 1.0, 0.0) (15.0, 4.0, 12.0, 7.0, 1.0, 0.0)\\n (5.0, 13.0, 6.0, 6.0, 1.0, 0.0) (7.0, 9.0, 11.0, 10.0, 1.0, 0.0)\\n (10.0, 94.0, 40.0, 11.0, 0.0, 0.0) (25.0, 89.0, 21.0, 13.0, 0.0, 0.0)\\n (30.0, 98.0, 42.0, 21.0, 1.0, 0.0) (35.0, 97.0, 41.0, 23.0, 1.0, 0.0)\\n (32.0, 88.0, 32.0, 25.0, 1.0, 1.0) (25.0, 87.0, 21.0, 27.0, 1.0, 1.0)\\n (72.0, 98.0, 52.0, 15.0, 0.0, 0.0) (75.0, 90.0, 51.0, 17.0, 0.0, 0.0)\\n (20.0, 88.0, 31.0, 28.0, 1.0, 1.0) (10.0, 98.0, 41.0, 38.0, 1.0, 1.0)\\n (90.0, 98.0, 41.0, 38.0, 1.0, 1.0) (80.0, 88.0, 51.0, 39.0, 1.0, 1.0)\\n (80.0, 95.0, 21.0, 28.0, 1.0, 1.0) (78.0, 70.0, 31.0, 29.0, 1.0, 1.0)\\n (10.0, 18.0, 71.0, 38.0, 1.0, 1.0) (10.0, 58.0, 51.0, 48.0, 1.0, 1.0)\\n (98.0, 88.0, 60.0, 31.0, 0.0, 0.0) (75.0, 81.0, 51.0, 34.0, 0.0, 0.0)\\n (10.0, 17.0, 50.0, 21.0, 1.0, 1.0) (35.0, 2.0, 29.0, 23.0, 1.0, 1.0)\\n (10.0, 20.0, 22.0, 97.0, 0.0, 1.0) (5.0, 9.0, 19.0, 98.0, 0.0, 1.0)\\n (10.0, 10.0, 40.0, 51.0, 1.0, 1.0) (35.0, 2.0, 29.0, 23.0, 1.0, 1.0)\\n (20.0, 90.0, 50.0, 61.0, 1.0, 0.0) (32.0, 82.0, 59.0, 63.0, 1.0, 0.0)\\n (10.0, 30.0, 50.0, 91.0, 1.0, 1.0) (12.0, 22.0, 59.0, 83.0, 1.0, 1.0)\\n (11.0, 20.0, 20.0, 98.0, 0.0, 1.0) (10.0, 12.0, 29.0, 93.0, 0.0, 1.0)\\n (69.0, 82.0, 20.0, 28.0, 1.0, 0.0) (70.0, 83.0, 29.0, 33.0, 1.0, 0.0)\\n (89.0, 92.0, 40.0, 28.0, 0.0, 0.0) (79.0, 93.0, 49.0, 23.0, 0.0, 0.0)\\n (15.0, 90.0, 21.0, 97.0, 1.0, 0.0) (20.0, 77.0, 31.0, 88.0, 1.0, 0.0)\\n (4.0, 10.0, 11.0, 7.0, 1.0, 0.0) (5.0, 0.0, 1.0, 8.0, 1.0, 0.0)\\n (88.0, 81.0, 50.0, 10.0, 0.0, 0.0) (90.0, 88.0, 54.0, 12.0, 0.0, 0.0)\\n (86.0, 98.0, 50.0, 20.0, 0.0, 0.0) (90.0, 90.0, 57.0, 22.0, 0.0, 0.0)\\n (78.0, 91.0, 50.0, 40.0, 1.0, 0.0) (70.0, 98.0, 54.0, 72.0, 1.0, 0.0)\\n (80.0, 80.0, 46.0, 61.0, 1.0, 1.0) (85.0, 82.0, 59.0, 63.0, 1.0, 1.0)\\n (88.0, 90.0, 86.0, 81.0, 1.0, 1.0) (89.0, 92.0, 89.0, 83.0, 1.0, 1.0)\\n (39.0, 71.0, 40.0, 26.0, 1.0, 1.0) (35.0, 80.0, 34.0, 22.0, 1.0, 1.0)\\n (76.0, 81.0, 80.0, 86.0, 1.0, 1.0) (65.0, 89.0, 64.0, 82.0, 1.0, 1.0)\\n (96.0, 95.0, 70.0, 70.0, 0.0, 0.0) (80.0, 91.0, 87.0, 72.0, 0.0, 0.0)\\n (2.0, 9.0, 10.0, 1.0, 1.0, 0.0) (3.0, 8.0, 19.0, 3.0, 1.0, 0.0)\\n (50.0, 79.0, 10.0, 31.0, 1.0, 1.0) (53.0, 88.0, 9.0, 33.0, 1.0, 1.0)\\n (70.0, 89.0, 12.0, 21.0, 0.0, 0.0) (59.0, 90.0, 19.0, 43.0, 0.0, 0.0)\\n (78.0, 80.0, 66.0, 51.0, 1.0, 1.0) (79.0, 72.0, 79.0, 83.0, 1.0, 1.0)\\n (10.0, 9.0, 2.0, 1.0, 0.0, 0.0) (9.0, 7.0, 9.0, 3.0, 0.0, 0.0)\\n (98.0, 90.0, 86.0, 71.0, 1.0, 1.0) (89.0, 92.0, 89.0, 83.0, 1.0, 1.0)\\n (88.0, 90.0, 76.0, 81.0, 1.0, 1.0) (99.0, 96.0, 89.0, 84.0, 1.0, 1.0)\\n (82.0, 89.0, 22.0, 31.0, 0.0, 0.0) (84.0, 92.0, 29.0, 43.0, 0.0, 0.0)\\n (70.0, 69.0, 46.0, 45.0, 0.0, 0.0) (74.0, 62.0, 49.0, 43.0, 0.0, 0.0)\\n (90.0, 79.0, 76.0, 79.0, 0.0, 0.0) (84.0, 77.0, 79.0, 68.0, 0.0, 0.0)\\n (80.0, 80.0, 62.0, 11.0, 1.0, 0.0) (81.0, 82.0, 69.0, 13.0, 1.0, 0.0)\\n (10.0, 0.0, 2.0, 41.0, 1.0, 1.0) (11.0, 2.0, 9.0, 49.0, 1.0, 1.0)\\n (85.0, 89.0, 22.0, 61.0, 1.0, 1.0) (80.0, 89.0, 23.0, 68.0, 1.0, 1.0)\\n (95.0, 87.0, 62.0, 81.0, 1.0, 1.0) (87.0, 79.0, 73.0, 98.0, 1.0, 1.0)\\n (85.0, 87.0, 72.0, 10.0, 1.0, 0.0) (79.0, 88.0, 79.0, 20.0, 1.0, 0.0)\\n (80.0, 81.0, 71.0, 30.0, 1.0, 0.0) (70.0, 83.0, 70.0, 23.0, 1.0, 0.0)\\n (80.0, 82.0, 76.0, 19.0, 1.0, 0.0) (70.0, 82.0, 75.0, 29.0, 1.0, 0.0)\\n (89.0, 87.0, 86.0, 15.0, 1.0, 0.0) (90.0, 86.0, 85.0, 10.0, 1.0, 0.0)\\n (69.0, 77.0, 76.0, 75.0, 1.0, 0.0) (70.0, 76.0, 65.0, 70.0, 1.0, 0.0)\\n (75.0, 72.0, 64.0, 39.0, 1.0, 0.0) (72.0, 76.0, 66.0, 40.0, 1.0, 0.0)\\n (77.0, 82.0, 74.0, 79.0, 1.0, 0.0) (71.0, 84.0, 67.0, 80.0, 1.0, 0.0)\\n (87.0, 92.0, 74.0, 89.0, 1.0, 0.0) (81.0, 84.0, 77.0, 85.0, 1.0, 0.0)\\n (15.0, 97.0, 22.0, 10.0, 0.0, 1.0) (19.0, 98.0, 20.0, 2.0, 0.0, 1.0)\\n (25.0, 82.0, 52.0, 20.0, 0.0, 1.0) (29.0, 78.0, 40.0, 12.0, 0.0, 1.0)\\n (45.0, 87.0, 57.0, 80.0, 0.0, 1.0) (39.0, 88.0, 43.0, 72.0, 0.0, 1.0)\\n (85.0, 90.0, 52.0, 30.0, 0.0, 1.0) (79.0, 91.0, 49.0, 22.0, 0.0, 1.0)\\n (90.0, 91.0, 80.0, 81.0, 1.0, 1.0) (80.0, 90.0, 80.0, 83.0, 1.0, 1.0)\\n (80.0, 83.0, 82.0, 71.0, 1.0, 1.0) (71.0, 81.0, 83.0, 72.0, 1.0, 1.0)\\n (72.0, 87.0, 72.0, 89.0, 1.0, 1.0) (69.0, 77.0, 83.0, 92.0, 1.0, 1.0)\\n (85.0, 99.0, 42.0, 90.0, 0.0, 0.0) (89.0, 96.0, 45.0, 92.0, 0.0, 0.0)\\n (80.0, 82.0, 64.0, 58.0, 0.0, 0.0) (87.0, 93.0, 63.0, 60.0, 0.0, 0.0)\\n (15.0, 9.0, 14.0, 80.0, 0.0, 1.0) (9.0, 6.0, 15.0, 85.0, 0.0, 1.0)\\n (81.0, 86.0, 86.0, 41.0, 1.0, 1.0) (78.0, 82.0, 78.0, 53.0, 1.0, 1.0)\\n (80.0, 87.0, 74.0, 68.0, 1.0, 1.0) (85.0, 88.0, 79.0, 70.0, 1.0, 1.0)\\n (2.0, 7.0, 4.0, 8.0, 0.0, 1.0) (5.0, 4.0, 5.0, 8.0, 0.0, 1.0)\\n (50.0, 77.0, 14.0, 28.0, 0.0, 1.0) (55.0, 74.0, 25.0, 29.0, 0.0, 1.0)\\n (30.0, 17.0, 14.0, 57.0, 0.0, 1.0) (35.0, 14.0, 23.0, 62.0, 0.0, 1.0)] not in index'",
     "output_type": "error",
     "traceback": [
      "\u001b[0;31m---------------------------------------------------------------------------\u001b[0m",
      "\u001b[0;31mKeyError\u001b[0m                                  Traceback (most recent call last)",
      "\u001b[0;32m<ipython-input-63-53cf99d09a43>\u001b[0m in \u001b[0;36m<module>\u001b[0;34m()\u001b[0m\n\u001b[1;32m      1\u001b[0m clf_l, Xtrain_l, ytrain_l, Xtest_l, ytest_l  = do_classify(LogisticRegression(), \n\u001b[1;32m      2\u001b[0m                                                            \u001b[0;34m{\u001b[0m\u001b[0;34m\"C\"\u001b[0m\u001b[0;34m:\u001b[0m \u001b[0;34m[\u001b[0m\u001b[0;36m0.01\u001b[0m\u001b[0;34m,\u001b[0m \u001b[0;36m0.1\u001b[0m\u001b[0;34m,\u001b[0m \u001b[0;36m1\u001b[0m\u001b[0;34m,\u001b[0m \u001b[0;36m10\u001b[0m\u001b[0;34m,\u001b[0m \u001b[0;36m100\u001b[0m\u001b[0;34m]\u001b[0m\u001b[0;34m}\u001b[0m\u001b[0;34m,\u001b[0m\u001b[0;34m\u001b[0m\u001b[0m\n\u001b[0;32m----> 3\u001b[0;31m                                                            df, X, y, df.Class)\n\u001b[0m",
      "\u001b[0;32m<ipython-input-57-88163c38198a>\u001b[0m in \u001b[0;36mdo_classify\u001b[0;34m(clf, parameters, indf, featurenames, targetname, target1val, standardize, train_size)\u001b[0m\n\u001b[1;32m      2\u001b[0m \u001b[0;34m\u001b[0m\u001b[0m\n\u001b[1;32m      3\u001b[0m \u001b[0;32mdef\u001b[0m \u001b[0mdo_classify\u001b[0m\u001b[0;34m(\u001b[0m\u001b[0mclf\u001b[0m\u001b[0;34m,\u001b[0m \u001b[0mparameters\u001b[0m\u001b[0;34m,\u001b[0m \u001b[0mindf\u001b[0m\u001b[0;34m,\u001b[0m \u001b[0mfeaturenames\u001b[0m\u001b[0;34m,\u001b[0m \u001b[0mtargetname\u001b[0m\u001b[0;34m,\u001b[0m \u001b[0mtarget1val\u001b[0m\u001b[0;34m,\u001b[0m \u001b[0mstandardize\u001b[0m\u001b[0;34m=\u001b[0m\u001b[0;32mFalse\u001b[0m\u001b[0;34m,\u001b[0m \u001b[0mtrain_size\u001b[0m\u001b[0;34m=\u001b[0m\u001b[0;36m0.8\u001b[0m\u001b[0;34m)\u001b[0m\u001b[0;34m:\u001b[0m\u001b[0;34m\u001b[0m\u001b[0m\n\u001b[0;32m----> 4\u001b[0;31m     \u001b[0msubdf\u001b[0m\u001b[0;34m=\u001b[0m\u001b[0mindf\u001b[0m\u001b[0;34m[\u001b[0m\u001b[0mfeaturenames\u001b[0m\u001b[0;34m]\u001b[0m\u001b[0;34m\u001b[0m\u001b[0m\n\u001b[0m\u001b[1;32m      5\u001b[0m     \u001b[0;32mif\u001b[0m \u001b[0mstandardize\u001b[0m\u001b[0;34m:\u001b[0m\u001b[0;34m\u001b[0m\u001b[0m\n\u001b[1;32m      6\u001b[0m         \u001b[0msubdfstd\u001b[0m\u001b[0;34m=\u001b[0m\u001b[0;34m(\u001b[0m\u001b[0msubdf\u001b[0m \u001b[0;34m-\u001b[0m \u001b[0msubdf\u001b[0m\u001b[0;34m.\u001b[0m\u001b[0mmean\u001b[0m\u001b[0;34m(\u001b[0m\u001b[0;34m)\u001b[0m\u001b[0;34m)\u001b[0m\u001b[0;34m/\u001b[0m\u001b[0msubdf\u001b[0m\u001b[0;34m.\u001b[0m\u001b[0mstd\u001b[0m\u001b[0;34m(\u001b[0m\u001b[0;34m)\u001b[0m\u001b[0;34m\u001b[0m\u001b[0m\n",
      "\u001b[0;32m/Users/kpham/anaconda/lib/python3.6/site-packages/pandas/core/frame.py\u001b[0m in \u001b[0;36m__getitem__\u001b[0;34m(self, key)\u001b[0m\n\u001b[1;32m   2051\u001b[0m         \u001b[0;32mif\u001b[0m \u001b[0misinstance\u001b[0m\u001b[0;34m(\u001b[0m\u001b[0mkey\u001b[0m\u001b[0;34m,\u001b[0m \u001b[0;34m(\u001b[0m\u001b[0mSeries\u001b[0m\u001b[0;34m,\u001b[0m \u001b[0mnp\u001b[0m\u001b[0;34m.\u001b[0m\u001b[0mndarray\u001b[0m\u001b[0;34m,\u001b[0m \u001b[0mIndex\u001b[0m\u001b[0;34m,\u001b[0m \u001b[0mlist\u001b[0m\u001b[0;34m)\u001b[0m\u001b[0;34m)\u001b[0m\u001b[0;34m:\u001b[0m\u001b[0;34m\u001b[0m\u001b[0m\n\u001b[1;32m   2052\u001b[0m             \u001b[0;31m# either boolean or fancy integer index\u001b[0m\u001b[0;34m\u001b[0m\u001b[0;34m\u001b[0m\u001b[0m\n\u001b[0;32m-> 2053\u001b[0;31m             \u001b[0;32mreturn\u001b[0m \u001b[0mself\u001b[0m\u001b[0;34m.\u001b[0m\u001b[0m_getitem_array\u001b[0m\u001b[0;34m(\u001b[0m\u001b[0mkey\u001b[0m\u001b[0;34m)\u001b[0m\u001b[0;34m\u001b[0m\u001b[0m\n\u001b[0m\u001b[1;32m   2054\u001b[0m         \u001b[0;32melif\u001b[0m \u001b[0misinstance\u001b[0m\u001b[0;34m(\u001b[0m\u001b[0mkey\u001b[0m\u001b[0;34m,\u001b[0m \u001b[0mDataFrame\u001b[0m\u001b[0;34m)\u001b[0m\u001b[0;34m:\u001b[0m\u001b[0;34m\u001b[0m\u001b[0m\n\u001b[1;32m   2055\u001b[0m             \u001b[0;32mreturn\u001b[0m \u001b[0mself\u001b[0m\u001b[0;34m.\u001b[0m\u001b[0m_getitem_frame\u001b[0m\u001b[0;34m(\u001b[0m\u001b[0mkey\u001b[0m\u001b[0;34m)\u001b[0m\u001b[0;34m\u001b[0m\u001b[0m\n",
      "\u001b[0;32m/Users/kpham/anaconda/lib/python3.6/site-packages/pandas/core/frame.py\u001b[0m in \u001b[0;36m_getitem_array\u001b[0;34m(self, key)\u001b[0m\n\u001b[1;32m   2095\u001b[0m             \u001b[0;32mreturn\u001b[0m \u001b[0mself\u001b[0m\u001b[0;34m.\u001b[0m\u001b[0mtake\u001b[0m\u001b[0;34m(\u001b[0m\u001b[0mindexer\u001b[0m\u001b[0;34m,\u001b[0m \u001b[0maxis\u001b[0m\u001b[0;34m=\u001b[0m\u001b[0;36m0\u001b[0m\u001b[0;34m,\u001b[0m \u001b[0mconvert\u001b[0m\u001b[0;34m=\u001b[0m\u001b[0;32mFalse\u001b[0m\u001b[0;34m)\u001b[0m\u001b[0;34m\u001b[0m\u001b[0m\n\u001b[1;32m   2096\u001b[0m         \u001b[0;32melse\u001b[0m\u001b[0;34m:\u001b[0m\u001b[0;34m\u001b[0m\u001b[0m\n\u001b[0;32m-> 2097\u001b[0;31m             \u001b[0mindexer\u001b[0m \u001b[0;34m=\u001b[0m \u001b[0mself\u001b[0m\u001b[0;34m.\u001b[0m\u001b[0mix\u001b[0m\u001b[0;34m.\u001b[0m\u001b[0m_convert_to_indexer\u001b[0m\u001b[0;34m(\u001b[0m\u001b[0mkey\u001b[0m\u001b[0;34m,\u001b[0m \u001b[0maxis\u001b[0m\u001b[0;34m=\u001b[0m\u001b[0;36m1\u001b[0m\u001b[0;34m)\u001b[0m\u001b[0;34m\u001b[0m\u001b[0m\n\u001b[0m\u001b[1;32m   2098\u001b[0m             \u001b[0;32mreturn\u001b[0m \u001b[0mself\u001b[0m\u001b[0;34m.\u001b[0m\u001b[0mtake\u001b[0m\u001b[0;34m(\u001b[0m\u001b[0mindexer\u001b[0m\u001b[0;34m,\u001b[0m \u001b[0maxis\u001b[0m\u001b[0;34m=\u001b[0m\u001b[0;36m1\u001b[0m\u001b[0;34m,\u001b[0m \u001b[0mconvert\u001b[0m\u001b[0;34m=\u001b[0m\u001b[0;32mTrue\u001b[0m\u001b[0;34m)\u001b[0m\u001b[0;34m\u001b[0m\u001b[0m\n\u001b[1;32m   2099\u001b[0m \u001b[0;34m\u001b[0m\u001b[0m\n",
      "\u001b[0;32m/Users/kpham/anaconda/lib/python3.6/site-packages/pandas/core/indexing.py\u001b[0m in \u001b[0;36m_convert_to_indexer\u001b[0;34m(self, obj, axis, is_setter)\u001b[0m\n\u001b[1;32m   1228\u001b[0m                 \u001b[0mmask\u001b[0m \u001b[0;34m=\u001b[0m \u001b[0mcheck\u001b[0m \u001b[0;34m==\u001b[0m \u001b[0;34m-\u001b[0m\u001b[0;36m1\u001b[0m\u001b[0;34m\u001b[0m\u001b[0m\n\u001b[1;32m   1229\u001b[0m                 \u001b[0;32mif\u001b[0m \u001b[0mmask\u001b[0m\u001b[0;34m.\u001b[0m\u001b[0many\u001b[0m\u001b[0;34m(\u001b[0m\u001b[0;34m)\u001b[0m\u001b[0;34m:\u001b[0m\u001b[0;34m\u001b[0m\u001b[0m\n\u001b[0;32m-> 1230\u001b[0;31m                     \u001b[0;32mraise\u001b[0m \u001b[0mKeyError\u001b[0m\u001b[0;34m(\u001b[0m\u001b[0;34m'%s not in index'\u001b[0m \u001b[0;34m%\u001b[0m \u001b[0mobjarr\u001b[0m\u001b[0;34m[\u001b[0m\u001b[0mmask\u001b[0m\u001b[0;34m]\u001b[0m\u001b[0;34m)\u001b[0m\u001b[0;34m\u001b[0m\u001b[0m\n\u001b[0m\u001b[1;32m   1231\u001b[0m \u001b[0;34m\u001b[0m\u001b[0m\n\u001b[1;32m   1232\u001b[0m                 \u001b[0;32mreturn\u001b[0m \u001b[0m_values_from_object\u001b[0m\u001b[0;34m(\u001b[0m\u001b[0mindexer\u001b[0m\u001b[0;34m)\u001b[0m\u001b[0;34m\u001b[0m\u001b[0m\n",
      "\u001b[0;31mKeyError\u001b[0m: '[(15.0, 16.0, 2.0, 20.0, 1.0, 1.0) (20.0, 20.0, 3.0, 25.0, 1.0, 1.0)\\n (10.0, 7.0, 0.0, 30.0, 1.0, 1.0) (30.0, 25.0, 5.0, 35.0, 1.0, 1.0)\\n (40.0, 50.0, 12.0, 50.0, 1.0, 1.0) (42.0, 30.0, 13.0, 70.0, 0.0, 1.0)\\n (35.0, 12.0, 0.0, 17.0, 1.0, 1.0) (50.0, 10.0, 15.0, 22.0, 1.0, 1.0)\\n (12.0, 21.0, 16.0, 50.0, 0.0, 1.0) (70.0, 80.0, 25.0, 70.0, 0.0, 1.0)\\n (50.0, 88.0, 30.0, 80.0, 1.0, 1.0) (19.0, 6.0, 19.0, 12.0, 1.0, 1.0)\\n (5.0, 1.0, 0.0, 11.0, 1.0, 1.0) (20.0, 14.0, 12.0, 19.0, 1.0, 1.0)\\n (62.0, 70.0, 44.0, 60.0, 0.0, 0.0) (30.0, 40.0, 22.0, 66.0, 0.0, 1.0)\\n (36.0, 30.0, 20.0, 80.0, 1.0, 1.0) (55.0, 13.0, 35.0, 90.0, 1.0, 1.0)\\n (69.0, 15.0, 36.0, 96.0, 0.0, 0.0) (70.0, 50.0, 40.0, 99.0, 1.0, 0.0)\\n (60.0, 60.0, 33.0, 90.0, 0.0, 1.0) (10.0, 12.0, 4.0, 80.0, 0.0, 1.0)\\n (15.0, 21.0, 2.0, 90.0, 1.0, 1.0) (2.0, 0.0, 2.0, 50.0, 1.0, 1.0)\\n (0.0, 2.0, 3.0, 70.0, 1.0, 1.0) (8.0, 7.0, 30.0, 40.0, 1.0, 1.0)\\n (19.0, 19.0, 25.0, 40.0, 1.0, 1.0) (25.0, 15.0, 12.0, 33.0, 1.0, 1.0)\\n (75.0, 85.0, 52.0, 43.0, 1.0, 1.0) (30.0, 90.0, 33.0, 35.0, 0.0, 1.0)\\n (35.0, 80.0, 50.0, 70.0, 0.0, 1.0) (4.0, 5.0, 40.0, 16.0, 1.0, 1.0)\\n (2.0, 19.0, 10.0, 50.0, 0.0, 1.0) (8.0, 22.0, 9.0, 40.0, 1.0, 1.0)\\n (12.0, 11.0, 8.0, 40.0, 1.0, 1.0) (10.0, 12.0, 17.0, 30.0, 1.0, 1.0)\\n (8.0, 6.0, 4.0, 22.0, 1.0, 0.0) (45.0, 54.0, 26.0, 90.0, 0.0, 1.0)\\n (0.0, 0.0, 0.0, 4.0, 1.0, 1.0) (50.0, 90.0, 37.0, 70.0, 0.0, 1.0)\\n (14.0, 13.0, 3.0, 70.0, 0.0, 1.0) (19.0, 20.0, 16.0, 50.0, 1.0, 1.0)\\n (10.0, 12.0, 7.0, 33.0, 1.0, 1.0) (30.0, 35.0, 28.0, 90.0, 0.0, 1.0)\\n (33.0, 33.0, 30.0, 90.0, 0.0, 1.0) (20.0, 12.0, 15.0, 70.0, 1.0, 1.0)\\n (7.0, 10.0, 1.0, 30.0, 1.0, 1.0) (70.0, 4.0, 39.0, 90.0, 0.0, 0.0)\\n (13.0, 80.0, 40.0, 88.0, 0.0, 0.0) (29.0, 39.0, 50.0, 77.0, 0.0, 1.0)\\n (20.0, 14.0, 12.0, 70.0, 0.0, 1.0) (39.0, 15.0, 16.0, 50.0, 1.0, 1.0)\\n (55.0, 90.0, 16.0, 40.0, 0.0, 1.0) (49.0, 70.0, 19.0, 75.0, 0.0, 0.0)\\n (12.0, 50.0, 8.0, 30.0, 1.0, 0.0) (16.0, 14.0, 6.0, 20.0, 1.0, 1.0)\\n (19.0, 5.0, 4.0, 1.0, 1.0, 1.0) (5.0, 2.0, 6.0, 5.0, 1.0, 1.0)\\n (28.0, 60.0, 19.0, 50.0, 1.0, 1.0) (27.0, 22.0, 22.0, 40.0, 0.0, 1.0)\\n (21.0, 10.0, 28.0, 20.0, 0.0, 0.0) (50.0, 70.0, 32.0, 40.0, 1.0, 1.0)\\n (80.0, 90.0, 70.0, 80.0, 1.0, 0.0) (17.0, 13.0, 16.0, 12.0, 1.0, 1.0)\\n (0.0, 5.0, 7.0, 2.0, 1.0, 1.0) (13.0, 5.0, 18.0, 19.0, 1.0, 1.0)\\n (25.0, 10.0, 19.0, 30.0, 0.0, 1.0) (65.0, 75.0, 23.0, 80.0, 0.0, 0.0)\\n (70.0, 69.0, 35.0, 30.0, 0.0, 0.0) (39.0, 40.0, 11.0, 33.0, 1.0, 1.0)\\n (22.0, 30.0, 10.0, 12.0, 1.0, 1.0) (29.0, 22.0, 9.0, 20.0, 1.0, 1.0)\\n (11.0, 2.0, 2.0, 8.0, 1.0, 1.0) (19.0, 30.0, 26.0, 19.0, 0.0, 1.0)\\n (12.0, 0.0, 6.0, 13.0, 1.0, 1.0) (50.0, 90.0, 29.0, 60.0, 1.0, 0.0)\\n (15.0, 70.0, 37.0, 44.0, 1.0, 0.0) (20.0, 80.0, 33.0, 33.0, 1.0, 1.0)\\n (13.0, 3.0, 11.0, 9.0, 1.0, 1.0) (80.0, 90.0, 49.0, 55.0, 0.0, 0.0)\\n (8.0, 15.0, 10.0, 40.0, 1.0, 1.0) (8.0, 25.0, 1.0, 70.0, 1.0, 1.0)\\n (7.0, 5.0, 2.0, 80.0, 1.0, 1.0) (7.0, 4.0, 10.0, 50.0, 1.0, 1.0)\\n (50.0, 70.0, 50.0, 10.0, 1.0, 1.0) (1.0, 0.0, 1.0, 12.0, 1.0, 1.0)\\n (70.0, 12.0, 40.0, 50.0, 1.0, 1.0) (19.0, 70.0, 3.0, 50.0, 1.0, 1.0)\\n (3.0, 12.0, 4.0, 33.0, 0.0, 1.0) (5.0, 20.0, 1.0, 50.0, 1.0, 1.0)\\n (4.0, 8.0, 10.0, 60.0, 1.0, 1.0) (80.0, 90.0, 55.0, 19.0, 1.0, 1.0)\\n (50.0, 70.0, 19.0, 15.0, 0.0, 1.0) (55.0, 89.0, 40.0, 40.0, 1.0, 1.0)\\n (80.0, 44.0, 35.0, 10.0, 0.0, 1.0) (100.0, 80.0, 2.0, 70.0, 0.0, 1.0)\\n (14.0, 60.0, 11.0, 75.0, 0.0, 1.0) (6.0, 2.0, 38.0, 12.0, 0.0, 1.0)\\n (10.0, 3.0, 0.0, 30.0, 0.0, 1.0) (50.0, 7.0, 9.0, 50.0, 1.0, 1.0)\\n (50.0, 90.0, 40.0, 90.0, 1.0, 1.0) (70.0, 92.0, 50.0, 7.0, 0.0, 0.0)\\n (2.0, 6.0, 2.0, 8.0, 0.0, 1.0) (1.0, 7.0, 6.0, 10.0, 1.0, 1.0)\\n (0.0, 12.0, 3.0, 3.0, 1.0, 1.0) (0.0, 0.0, 5.0, 80.0, 0.0, 1.0)\\n (12.0, 26.0, 7.0, 40.0, 0.0, 1.0) (70.0, 90.0, 41.0, 33.0, 1.0, 1.0)\\n (7.0, 12.0, 5.0, 3.0, 1.0, 1.0) (90.0, 70.0, 30.0, 14.0, 1.0, 1.0)\\n (70.0, 88.0, 55.0, 40.0, 0.0, 0.0) (77.0, 80.0, 51.0, 80.0, 1.0, 1.0)\\n (2.0, 5.0, 3.0, 50.0, 1.0, 1.0) (25.0, 27.0, 0.0, 69.0, 1.0, 1.0)\\n (11.0, 2.0, 0.0, 50.0, 1.0, 1.0) (0.0, 8.0, 11.0, 70.0, 1.0, 1.0)\\n (77.0, 80.0, 12.0, 19.0, 0.0, 0.0) (25.0, 29.0, 40.0, 17.0, 0.0, 0.0)\\n (24.0, 35.0, 23.0, 22.0, 0.0, 0.0) (60.0, 60.0, 3.0, 60.0, 1.0, 1.0)\\n (21.0, 12.0, 0.0, 50.0, 1.0, 0.0) (0.0, 4.0, 8.0, 30.0, 1.0, 0.0)\\n (66.0, 90.0, 55.0, 12.0, 0.0, 1.0) (70.0, 98.0, 7.0, 5.0, 0.0, 1.0)\\n (0.0, 6.0, 4.0, 15.0, 1.0, 1.0) (12.0, 30.0, 0.0, 17.0, 1.0, 1.0)\\n (2.0, 9.0, 7.0, 55.0, 0.0, 1.0) (55.0, 33.0, 6.0, 9.0, 1.0, 1.0)\\n (12.0, 10.0, 20.0, 16.0, 1.0, 1.0) (70.0, 90.0, 2.0, 2.0, 1.0, 1.0)\\n (7.0, 9.0, 5.0, 30.0, 0.0, 1.0) (80.0, 42.0, 20.0, 50.0, 1.0, 1.0)\\n (0.0, 3.0, 10.0, 3.0, 1.0, 1.0) (12.0, 60.0, 0.0, 70.0, 1.0, 1.0)\\n (80.0, 80.0, 15.0, 70.0, 1.0, 1.0) (70.0, 80.0, 95.0, 70.0, 0.0, 0.0)\\n (70.0, 80.0, 95.0, 70.0, 0.0, 0.0) (60.0, 80.0, 50.0, 40.0, 0.0, 0.0)\\n (100.0, 80.0, 95.0, 90.0, 0.0, 0.0) (100.0, 85.0, 85.0, 70.0, 1.0, 0.0)\\n (10.0, 60.0, 5.0, 20.0, 1.0, 1.0) (19.0, 65.0, 50.0, 10.0, 1.0, 1.0)\\n (10.0, 75.0, 55.0, 11.0, 1.0, 1.0) (80.0, 90.0, 55.0, 19.0, 1.0, 1.0)\\n (10.0, 10.0, 15.0, 19.0, 1.0, 1.0) (70.0, 75.0, 55.0, 11.0, 1.0, 1.0)\\n (100.0, 75.0, 50.0, 70.0, 0.0, 0.0) (10.0, 79.0, 30.0, 30.0, 0.0, 1.0)\\n (60.0, 55.0, 30.0, 40.0, 0.0, 1.0) (100.0, 75.0, 50.0, 70.0, 0.0, 0.0)\\n (80.0, 80.0, 51.0, 59.0, 1.0, 1.0) (23.0, 63.0, 71.0, 89.0, 1.0, 1.0)\\n (100.0, 91.0, 98.0, 40.0, 0.0, 1.0) (10.0, 51.0, 40.0, 40.0, 1.0, 1.0)\\n (70.0, 50.0, 33.0, 41.0, 1.0, 1.0) (70.0, 58.0, 73.0, 91.0, 1.0, 1.0)\\n (70.0, 50.0, 30.0, 49.0, 0.0, 1.0) (70.0, 50.0, 33.0, 40.0, 1.0, 1.0)\\n (22.0, 51.0, 48.0, 10.0, 1.0, 1.0) (62.0, 68.0, 48.0, 80.0, 0.0, 1.0)\\n (82.0, 89.0, 58.0, 50.0, 0.0, 0.0) (72.0, 80.0, 58.0, 66.0, 1.0, 0.0)\\n (70.0, 82.0, 3.0, 73.0, 0.0, 0.0) (60.0, 82.0, 93.0, 43.0, 0.0, 0.0)\\n (55.0, 72.0, 83.0, 14.0, 1.0, 0.0) (72.0, 65.0, 73.0, 66.0, 0.0, 0.0)\\n (51.0, 82.0, 53.0, 43.0, 1.0, 0.0) (80.0, 92.0, 83.0, 43.0, 1.0, 0.0)\\n (60.0, 52.0, 23.0, 33.0, 1.0, 0.0) (30.0, 12.0, 29.0, 23.0, 1.0, 0.0)\\n (40.0, 62.0, 83.0, 33.0, 1.0, 1.0) (60.0, 52.0, 23.0, 33.0, 1.0, 0.0)\\n (20.0, 22.0, 53.0, 13.0, 1.0, 0.0) (20.0, 52.0, 23.0, 33.0, 1.0, 0.0)\\n (50.0, 62.0, 73.0, 43.0, 0.0, 1.0) (10.0, 2.0, 13.0, 53.0, 1.0, 1.0)\\n (60.0, 52.0, 23.0, 33.0, 1.0, 0.0) (15.0, 52.0, 83.0, 11.0, 0.0, 0.0)\\n (80.0, 42.0, 33.0, 13.0, 0.0, 0.0) (40.0, 51.0, 20.0, 33.0, 1.0, 0.0)\\n (60.0, 70.0, 63.0, 93.0, 0.0, 1.0) (50.0, 62.0, 13.0, 33.0, 1.0, 1.0)\\n (85.0, 75.0, 62.0, 53.0, 1.0, 0.0) (25.0, 15.0, 32.0, 53.0, 0.0, 1.0)\\n (10.0, 35.0, 30.0, 13.0, 1.0, 0.0) (87.0, 65.0, 82.0, 33.0, 1.0, 0.0)\\n (85.0, 15.0, 22.0, 53.0, 1.0, 0.0) (80.0, 71.0, 52.0, 51.0, 0.0, 1.0)\\n (75.0, 71.0, 72.0, 53.0, 1.0, 0.0) (85.0, 66.0, 12.0, 23.0, 0.0, 1.0)\\n (23.0, 25.0, 32.0, 53.0, 1.0, 1.0) (15.0, 25.0, 37.0, 13.0, 1.0, 1.0)\\n (95.0, 91.0, 62.0, 53.0, 1.0, 0.0) (81.0, 75.0, 62.0, 53.0, 1.0, 0.0)\\n (53.0, 75.0, 72.0, 23.0, 1.0, 0.0) (15.0, 43.0, 42.0, 33.0, 1.0, 1.0)\\n (92.0, 65.0, 62.0, 53.0, 1.0, 0.0) (83.0, 75.0, 62.0, 53.0, 1.0, 0.0)\\n (27.0, 15.0, 42.0, 53.0, 1.0, 1.0) (45.0, 95.0, 12.0, 13.0, 1.0, 1.0)\\n (15.0, 90.0, 52.0, 83.0, 1.0, 0.0) (45.0, 58.0, 52.0, 43.0, 0.0, 0.0)\\n (25.0, 5.0, 12.0, 33.0, 1.0, 1.0) (22.0, 51.0, 42.0, 40.0, 0.0, 1.0)\\n (29.0, 10.0, 12.0, 24.0, 1.0, 1.0) (72.0, 51.0, 42.0, 24.0, 0.0, 0.0)\\n (67.0, 31.0, 42.0, 14.0, 1.0, 1.0) (17.0, 21.0, 42.0, 14.0, 1.0, 1.0)\\n (27.0, 41.0, 49.0, 14.0, 1.0, 0.0) (70.0, 81.0, 39.0, 84.0, 1.0, 1.0)\\n (27.0, 90.0, 82.0, 14.0, 1.0, 0.0) (17.0, 61.0, 42.0, 14.0, 1.0, 1.0)\\n (87.0, 81.0, 42.0, 19.0, 1.0, 0.0) (7.0, 61.0, 22.0, 14.0, 1.0, 1.0)\\n (17.0, 50.0, 2.0, 4.0, 1.0, 1.0) (5.0, 21.0, 42.0, 14.0, 1.0, 1.0)\\n (27.0, 41.0, 32.0, 61.0, 1.0, 0.0) (87.0, 88.0, 40.0, 10.0, 0.0, 1.0)\\n (96.0, 61.0, 42.0, 94.0, 1.0, 0.0) (57.0, 51.0, 46.0, 34.0, 1.0, 0.0)\\n (77.0, 69.0, 41.0, 13.0, 1.0, 1.0) (80.0, 51.0, 40.0, 24.0, 1.0, 1.0)\\n (62.0, 61.0, 82.0, 40.0, 1.0, 1.0) (72.0, 83.0, 12.0, 90.0, 1.0, 0.0)\\n (87.0, 81.0, 22.0, 70.0, 1.0, 0.0) (72.0, 90.0, 12.0, 30.0, 1.0, 0.0)\\n (2.0, 11.0, 62.0, 30.0, 1.0, 1.0) (5.0, 3.0, 2.0, 10.0, 1.0, 1.0)\\n (73.0, 84.0, 77.0, 81.0, 1.0, 0.0) (5.0, 17.0, 21.0, 10.0, 1.0, 1.0)\\n (51.0, 42.0, 12.0, 29.0, 1.0, 0.0) (9.0, 7.0, 21.0, 20.0, 1.0, 1.0)\\n (19.0, 72.0, 15.0, 50.0, 1.0, 1.0) (32.0, 80.0, 58.0, 46.0, 0.0, 0.0)\\n (32.0, 60.0, 58.0, 66.0, 1.0, 0.0) (12.0, 8.0, 18.0, 26.0, 1.0, 1.0)\\n (52.0, 10.0, 13.0, 6.0, 1.0, 1.0) (72.0, 80.0, 58.0, 66.0, 1.0, 1.0)\\n (72.0, 80.0, 58.0, 66.0, 0.0, 0.0) (92.0, 80.0, 88.0, 76.0, 1.0, 0.0)\\n (72.0, 80.0, 98.0, 96.0, 1.0, 0.0) (72.0, 80.0, 58.0, 86.0, 1.0, 1.0)\\n (22.0, 20.0, 18.0, 6.0, 1.0, 1.0) (12.0, 20.0, 38.0, 46.0, 1.0, 1.0)\\n (70.0, 92.0, 83.0, 85.0, 1.0, 0.0) (50.0, 40.0, 52.0, 66.0, 0.0, 1.0)\\n (80.0, 94.0, 62.0, 77.0, 0.0, 1.0) (87.0, 48.0, 82.0, 96.0, 0.0, 1.0)\\n (70.0, 40.0, 2.0, 16.0, 0.0, 1.0) (65.0, 86.0, 62.0, 40.0, 1.0, 1.0)\\n (15.0, 6.0, 32.0, 40.0, 1.0, 1.0) (19.0, 74.0, 32.0, 17.0, 1.0, 0.0)\\n (69.0, 76.0, 82.0, 94.0, 0.0, 1.0) (39.0, 26.0, 12.0, 44.0, 1.0, 1.0)\\n (59.0, 97.0, 42.0, 70.0, 1.0, 1.0) (10.0, 17.0, 12.0, 40.0, 1.0, 1.0)\\n (80.0, 87.0, 72.0, 60.0, 0.0, 0.0) (70.0, 99.0, 66.0, 65.0, 0.0, 1.0)\\n (80.0, 97.0, 86.0, 95.0, 0.0, 1.0) (69.0, 34.0, 12.0, 17.0, 1.0, 0.0)\\n (10.0, 17.0, 12.0, 14.0, 1.0, 1.0) (61.0, 97.0, 82.0, 64.0, 1.0, 1.0)\\n (21.0, 27.0, 52.0, 34.0, 0.0, 0.0) (49.0, 94.0, 42.0, 7.0, 1.0, 0.0)\\n (70.0, 64.0, 42.0, 32.0, 0.0, 0.0) (79.0, 84.0, 82.0, 37.0, 0.0, 0.0)\\n (19.0, 80.0, 12.0, 17.0, 1.0, 1.0) (11.0, 70.0, 32.0, 29.0, 1.0, 1.0)\\n (10.0, 8.0, 10.0, 10.0, 1.0, 1.0) (18.0, 28.0, 40.0, 20.0, 1.0, 1.0)\\n (90.0, 84.0, 52.0, 30.0, 0.0, 0.0) (92.0, 81.0, 32.0, 36.0, 0.0, 0.0)\\n (42.0, 21.0, 2.0, 16.0, 1.0, 1.0) (22.0, 20.0, 6.0, 26.0, 1.0, 1.0)\\n (95.0, 82.0, 82.0, 70.0, 0.0, 0.0) (90.0, 62.0, 80.0, 60.0, 0.0, 0.0)\\n (72.0, 21.0, 22.0, 26.0, 1.0, 0.0) (92.0, 31.0, 42.0, 27.0, 1.0, 0.0)\\n (82.0, 31.0, 52.0, 25.0, 1.0, 0.0) (72.0, 41.0, 46.0, 27.0, 1.0, 0.0)\\n (74.0, 71.0, 56.0, 37.0, 1.0, 0.0) (74.0, 60.0, 56.0, 37.0, 1.0, 0.0)\\n (95.0, 94.0, 72.0, 80.0, 0.0, 0.0) (97.0, 87.0, 82.0, 86.0, 0.0, 0.0)\\n (40.0, 38.0, 32.0, 36.0, 1.0, 1.0) (41.0, 39.0, 35.0, 39.0, 1.0, 1.0)\\n (51.0, 79.0, 85.0, 89.0, 0.0, 0.0) (81.0, 79.0, 91.0, 85.0, 0.0, 0.0)\\n (71.0, 70.0, 65.0, 69.0, 1.0, 0.0) (75.0, 71.0, 76.0, 80.0, 1.0, 0.0)\\n (49.0, 36.0, 32.0, 44.0, 0.0, 1.0) (42.0, 24.0, 12.0, 24.0, 0.0, 1.0)\\n (90.0, 86.0, 82.0, 74.0, 0.0, 0.0) (62.0, 64.0, 72.0, 84.0, 0.0, 0.0)\\n (90.0, 86.0, 82.0, 74.0, 1.0, 1.0) (62.0, 64.0, 72.0, 84.0, 1.0, 1.0)\\n (98.0, 87.0, 86.0, 84.0, 0.0, 0.0) (72.0, 74.0, 82.0, 89.0, 0.0, 0.0)\\n (18.0, 17.0, 26.0, 34.0, 1.0, 1.0) (32.0, 14.0, 32.0, 29.0, 1.0, 1.0)\\n (10.0, 12.0, 20.0, 13.0, 1.0, 1.0) (22.0, 34.0, 15.0, 9.0, 1.0, 1.0)\\n (11.0, 20.0, 21.0, 23.0, 0.0, 0.0) (12.0, 44.0, 25.0, 39.0, 0.0, 0.0)\\n (15.0, 50.0, 24.0, 43.0, 0.0, 1.0) (32.0, 44.0, 29.0, 89.0, 0.0, 1.0)\\n (65.0, 59.0, 74.0, 83.0, 1.0, 0.0) (72.0, 64.0, 59.0, 89.0, 1.0, 0.0)\\n (95.0, 57.0, 74.0, 89.0, 1.0, 0.0) (82.0, 84.0, 79.0, 79.0, 1.0, 0.0)\\n (25.0, 29.0, 34.0, 33.0, 1.0, 1.0) (42.0, 34.0, 29.0, 39.0, 1.0, 1.0)\\n (55.0, 79.0, 44.0, 43.0, 0.0, 0.0) (62.0, 64.0, 69.0, 49.0, 0.0, 0.0)\\n (78.0, 88.0, 74.0, 83.0, 0.0, 0.0) (72.0, 84.0, 89.0, 89.0, 0.0, 0.0)\\n (60.0, 92.0, 83.0, 23.0, 1.0, 0.0) (50.0, 90.0, 83.0, 13.0, 1.0, 0.0)\\n (60.0, 97.0, 13.0, 3.0, 0.0, 0.0) (50.0, 95.0, 23.0, 10.0, 0.0, 0.0)\\n (60.0, 87.0, 23.0, 11.0, 0.0, 0.0) (50.0, 80.0, 20.0, 15.0, 0.0, 0.0)\\n (10.0, 15.0, 10.0, 21.0, 1.0, 1.0) (30.0, 10.0, 20.0, 5.0, 1.0, 1.0)\\n (24.0, 35.0, 18.0, 31.0, 1.0, 1.0) (27.0, 20.0, 33.0, 35.0, 1.0, 1.0)\\n (10.0, 15.0, 10.0, 21.0, 1.0, 1.0) (30.0, 10.0, 20.0, 5.0, 1.0, 1.0)\\n (80.0, 77.0, 63.0, 83.0, 0.0, 0.0) (75.0, 85.0, 73.0, 80.0, 0.0, 0.0)\\n (40.0, 7.0, 50.0, 41.0, 1.0, 1.0) (35.0, 2.0, 29.0, 33.0, 1.0, 1.0)\\n (10.0, 90.0, 30.0, 21.0, 0.0, 0.0) (25.0, 80.0, 29.0, 23.0, 0.0, 0.0)\\n (10.0, 8.0, 9.0, 3.0, 1.0, 0.0) (15.0, 7.0, 12.0, 7.0, 1.0, 0.0)\\n (70.0, 90.0, 20.0, 21.0, 0.0, 0.0) (75.0, 80.0, 15.0, 20.0, 0.0, 0.0)\\n (78.0, 98.0, 10.0, 11.0, 0.0, 1.0) (79.0, 89.0, 11.0, 14.0, 0.0, 1.0)\\n (16.0, 90.0, 15.0, 11.0, 0.0, 1.0) (17.0, 80.0, 13.0, 10.0, 0.0, 1.0)\\n (40.0, 87.0, 50.0, 41.0, 1.0, 0.0) (35.0, 92.0, 29.0, 33.0, 1.0, 0.0)\\n (14.0, 97.0, 15.0, 14.0, 0.0, 0.0) (13.0, 82.0, 20.0, 30.0, 0.0, 0.0)\\n (24.0, 97.0, 15.0, 14.0, 0.0, 0.0) (23.0, 82.0, 20.0, 30.0, 0.0, 0.0)\\n (20.0, 3.0, 9.0, 3.0, 1.0, 0.0) (15.0, 4.0, 12.0, 7.0, 1.0, 0.0)\\n (5.0, 13.0, 6.0, 6.0, 1.0, 0.0) (7.0, 9.0, 11.0, 10.0, 1.0, 0.0)\\n (10.0, 94.0, 40.0, 11.0, 0.0, 0.0) (25.0, 89.0, 21.0, 13.0, 0.0, 0.0)\\n (30.0, 98.0, 42.0, 21.0, 1.0, 0.0) (35.0, 97.0, 41.0, 23.0, 1.0, 0.0)\\n (32.0, 88.0, 32.0, 25.0, 1.0, 1.0) (25.0, 87.0, 21.0, 27.0, 1.0, 1.0)\\n (72.0, 98.0, 52.0, 15.0, 0.0, 0.0) (75.0, 90.0, 51.0, 17.0, 0.0, 0.0)\\n (20.0, 88.0, 31.0, 28.0, 1.0, 1.0) (10.0, 98.0, 41.0, 38.0, 1.0, 1.0)\\n (90.0, 98.0, 41.0, 38.0, 1.0, 1.0) (80.0, 88.0, 51.0, 39.0, 1.0, 1.0)\\n (80.0, 95.0, 21.0, 28.0, 1.0, 1.0) (78.0, 70.0, 31.0, 29.0, 1.0, 1.0)\\n (10.0, 18.0, 71.0, 38.0, 1.0, 1.0) (10.0, 58.0, 51.0, 48.0, 1.0, 1.0)\\n (98.0, 88.0, 60.0, 31.0, 0.0, 0.0) (75.0, 81.0, 51.0, 34.0, 0.0, 0.0)\\n (10.0, 17.0, 50.0, 21.0, 1.0, 1.0) (35.0, 2.0, 29.0, 23.0, 1.0, 1.0)\\n (10.0, 20.0, 22.0, 97.0, 0.0, 1.0) (5.0, 9.0, 19.0, 98.0, 0.0, 1.0)\\n (10.0, 10.0, 40.0, 51.0, 1.0, 1.0) (35.0, 2.0, 29.0, 23.0, 1.0, 1.0)\\n (20.0, 90.0, 50.0, 61.0, 1.0, 0.0) (32.0, 82.0, 59.0, 63.0, 1.0, 0.0)\\n (10.0, 30.0, 50.0, 91.0, 1.0, 1.0) (12.0, 22.0, 59.0, 83.0, 1.0, 1.0)\\n (11.0, 20.0, 20.0, 98.0, 0.0, 1.0) (10.0, 12.0, 29.0, 93.0, 0.0, 1.0)\\n (69.0, 82.0, 20.0, 28.0, 1.0, 0.0) (70.0, 83.0, 29.0, 33.0, 1.0, 0.0)\\n (89.0, 92.0, 40.0, 28.0, 0.0, 0.0) (79.0, 93.0, 49.0, 23.0, 0.0, 0.0)\\n (15.0, 90.0, 21.0, 97.0, 1.0, 0.0) (20.0, 77.0, 31.0, 88.0, 1.0, 0.0)\\n (4.0, 10.0, 11.0, 7.0, 1.0, 0.0) (5.0, 0.0, 1.0, 8.0, 1.0, 0.0)\\n (88.0, 81.0, 50.0, 10.0, 0.0, 0.0) (90.0, 88.0, 54.0, 12.0, 0.0, 0.0)\\n (86.0, 98.0, 50.0, 20.0, 0.0, 0.0) (90.0, 90.0, 57.0, 22.0, 0.0, 0.0)\\n (78.0, 91.0, 50.0, 40.0, 1.0, 0.0) (70.0, 98.0, 54.0, 72.0, 1.0, 0.0)\\n (80.0, 80.0, 46.0, 61.0, 1.0, 1.0) (85.0, 82.0, 59.0, 63.0, 1.0, 1.0)\\n (88.0, 90.0, 86.0, 81.0, 1.0, 1.0) (89.0, 92.0, 89.0, 83.0, 1.0, 1.0)\\n (39.0, 71.0, 40.0, 26.0, 1.0, 1.0) (35.0, 80.0, 34.0, 22.0, 1.0, 1.0)\\n (76.0, 81.0, 80.0, 86.0, 1.0, 1.0) (65.0, 89.0, 64.0, 82.0, 1.0, 1.0)\\n (96.0, 95.0, 70.0, 70.0, 0.0, 0.0) (80.0, 91.0, 87.0, 72.0, 0.0, 0.0)\\n (2.0, 9.0, 10.0, 1.0, 1.0, 0.0) (3.0, 8.0, 19.0, 3.0, 1.0, 0.0)\\n (50.0, 79.0, 10.0, 31.0, 1.0, 1.0) (53.0, 88.0, 9.0, 33.0, 1.0, 1.0)\\n (70.0, 89.0, 12.0, 21.0, 0.0, 0.0) (59.0, 90.0, 19.0, 43.0, 0.0, 0.0)\\n (78.0, 80.0, 66.0, 51.0, 1.0, 1.0) (79.0, 72.0, 79.0, 83.0, 1.0, 1.0)\\n (10.0, 9.0, 2.0, 1.0, 0.0, 0.0) (9.0, 7.0, 9.0, 3.0, 0.0, 0.0)\\n (98.0, 90.0, 86.0, 71.0, 1.0, 1.0) (89.0, 92.0, 89.0, 83.0, 1.0, 1.0)\\n (88.0, 90.0, 76.0, 81.0, 1.0, 1.0) (99.0, 96.0, 89.0, 84.0, 1.0, 1.0)\\n (82.0, 89.0, 22.0, 31.0, 0.0, 0.0) (84.0, 92.0, 29.0, 43.0, 0.0, 0.0)\\n (70.0, 69.0, 46.0, 45.0, 0.0, 0.0) (74.0, 62.0, 49.0, 43.0, 0.0, 0.0)\\n (90.0, 79.0, 76.0, 79.0, 0.0, 0.0) (84.0, 77.0, 79.0, 68.0, 0.0, 0.0)\\n (80.0, 80.0, 62.0, 11.0, 1.0, 0.0) (81.0, 82.0, 69.0, 13.0, 1.0, 0.0)\\n (10.0, 0.0, 2.0, 41.0, 1.0, 1.0) (11.0, 2.0, 9.0, 49.0, 1.0, 1.0)\\n (85.0, 89.0, 22.0, 61.0, 1.0, 1.0) (80.0, 89.0, 23.0, 68.0, 1.0, 1.0)\\n (95.0, 87.0, 62.0, 81.0, 1.0, 1.0) (87.0, 79.0, 73.0, 98.0, 1.0, 1.0)\\n (85.0, 87.0, 72.0, 10.0, 1.0, 0.0) (79.0, 88.0, 79.0, 20.0, 1.0, 0.0)\\n (80.0, 81.0, 71.0, 30.0, 1.0, 0.0) (70.0, 83.0, 70.0, 23.0, 1.0, 0.0)\\n (80.0, 82.0, 76.0, 19.0, 1.0, 0.0) (70.0, 82.0, 75.0, 29.0, 1.0, 0.0)\\n (89.0, 87.0, 86.0, 15.0, 1.0, 0.0) (90.0, 86.0, 85.0, 10.0, 1.0, 0.0)\\n (69.0, 77.0, 76.0, 75.0, 1.0, 0.0) (70.0, 76.0, 65.0, 70.0, 1.0, 0.0)\\n (75.0, 72.0, 64.0, 39.0, 1.0, 0.0) (72.0, 76.0, 66.0, 40.0, 1.0, 0.0)\\n (77.0, 82.0, 74.0, 79.0, 1.0, 0.0) (71.0, 84.0, 67.0, 80.0, 1.0, 0.0)\\n (87.0, 92.0, 74.0, 89.0, 1.0, 0.0) (81.0, 84.0, 77.0, 85.0, 1.0, 0.0)\\n (15.0, 97.0, 22.0, 10.0, 0.0, 1.0) (19.0, 98.0, 20.0, 2.0, 0.0, 1.0)\\n (25.0, 82.0, 52.0, 20.0, 0.0, 1.0) (29.0, 78.0, 40.0, 12.0, 0.0, 1.0)\\n (45.0, 87.0, 57.0, 80.0, 0.0, 1.0) (39.0, 88.0, 43.0, 72.0, 0.0, 1.0)\\n (85.0, 90.0, 52.0, 30.0, 0.0, 1.0) (79.0, 91.0, 49.0, 22.0, 0.0, 1.0)\\n (90.0, 91.0, 80.0, 81.0, 1.0, 1.0) (80.0, 90.0, 80.0, 83.0, 1.0, 1.0)\\n (80.0, 83.0, 82.0, 71.0, 1.0, 1.0) (71.0, 81.0, 83.0, 72.0, 1.0, 1.0)\\n (72.0, 87.0, 72.0, 89.0, 1.0, 1.0) (69.0, 77.0, 83.0, 92.0, 1.0, 1.0)\\n (85.0, 99.0, 42.0, 90.0, 0.0, 0.0) (89.0, 96.0, 45.0, 92.0, 0.0, 0.0)\\n (80.0, 82.0, 64.0, 58.0, 0.0, 0.0) (87.0, 93.0, 63.0, 60.0, 0.0, 0.0)\\n (15.0, 9.0, 14.0, 80.0, 0.0, 1.0) (9.0, 6.0, 15.0, 85.0, 0.0, 1.0)\\n (81.0, 86.0, 86.0, 41.0, 1.0, 1.0) (78.0, 82.0, 78.0, 53.0, 1.0, 1.0)\\n (80.0, 87.0, 74.0, 68.0, 1.0, 1.0) (85.0, 88.0, 79.0, 70.0, 1.0, 1.0)\\n (2.0, 7.0, 4.0, 8.0, 0.0, 1.0) (5.0, 4.0, 5.0, 8.0, 0.0, 1.0)\\n (50.0, 77.0, 14.0, 28.0, 0.0, 1.0) (55.0, 74.0, 25.0, 29.0, 0.0, 1.0)\\n (30.0, 17.0, 14.0, 57.0, 0.0, 1.0) (35.0, 14.0, 23.0, 62.0, 0.0, 1.0)] not in index'"
     ]
    }
   ],
   "source": [
    "clf_l, Xtrain_l, ytrain_l, Xtest_l, ytest_l  = do_classify(LogisticRegression(), \n",
    "                                                           {\"C\": [0.01, 0.1, 1, 10, 100]}, \n",
    "                                                           # df, X, y, df.Class)"
   ]
  },
  {
   "cell_type": "code",
   "execution_count": null,
   "metadata": {
    "collapsed": true
   },
   "outputs": [],
   "source": []
  }
 ],
 "metadata": {
  "kernelspec": {
   "display_name": "Python 3",
   "language": "python",
   "name": "python3"
  },
  "language_info": {
   "codemirror_mode": {
    "name": "ipython",
    "version": 3
   },
   "file_extension": ".py",
   "mimetype": "text/x-python",
   "name": "python",
   "nbconvert_exporter": "python",
   "pygments_lexer": "ipython3",
   "version": "3.6.0"
  }
 },
 "nbformat": 4,
 "nbformat_minor": 2
}
